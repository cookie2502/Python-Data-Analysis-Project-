{
 "cells": [
  {
   "cell_type": "markdown",
   "metadata": {},
   "source": [
    "The following project focus on the analysis of a dataset containg informations about engineering students.<br>\n",
    "The goal of the project is to determine which factors have a higher impact on job placement.<br>\n",
    "\n",
    "First, Exploratory Data Analysis and Hypothesis Testing will be performed to determine possible relationships between a job placement success and other features. Later, prediction models by CATBOOST and XGBOOST will be developed to predict if a student will be placed or not given some students features.<br>\n",
    "\n",
    "The project is structured as follows:<br>\n",
    "\n",
    "- Exploratory Data Analysis and Hypothesis Testing<br>\n",
    "- Data preparation for ML algorithms (encoding, scaling)<br>\n",
    "- ML algorithms training<br>\n",
    "- Results Summary<br>"
   ]
  },
  {
   "cell_type": "markdown",
   "metadata": {},
   "source": [
    "# Data Analysis main results summary dashboard:"
   ]
  },
  {
   "cell_type": "markdown",
   "metadata": {},
   "source": [
    "- Q1 - CGPA and placement are not independent: in particular, CGPA affects a lot placement as it can be seen in the prediction summary\n",
    "- Q2 - The number of internships affects placement: in particular, a higher number of internships affects plcament positively.\n",
    "- Q3 - Sex and placement are independent.\n",
    "- Q4 - Students who did not have historical backlogs tended to be placed.\n",
    "- Q5 - Students who did not live in a college accomodation tended to be placed.\n",
    "- Q6 - It seems like there is no clear relationship between age and 'placed'.\n",
    "- Q7 - Age and the number of internships are somewhat dependent.\n",
    "- Q8 - The majority of students from Computer Science, IT and Electronic got placed.\n",
    "- Q9 - The major where most students did at least one internship is Computer Science (67%), while for Civil, Electrical and Mechanical engineering more than half of the students did not do any internship. Morevoer, Electronic and IT are the majors where most students did 2 or more internships. Finally, Civil and Mechanical are the majors where over 7% of the students have CGPA=9, whereas students from Electrical engineering are those with most CGPA=8 or CGPA=7."
   ]
  },
  {
   "cell_type": "markdown",
   "metadata": {},
   "source": [
    "<img src=\"https://i.imgur.com/Dfgo5Fq.png\" width=\"1000px\">"
   ]
  },
  {
   "cell_type": "code",
   "execution_count": 2,
   "metadata": {
    "execution": {
     "iopub.execute_input": "2024-06-27T03:18:30.703318Z",
     "iopub.status.busy": "2024-06-27T03:18:30.702679Z",
     "iopub.status.idle": "2024-06-27T03:18:32.976704Z",
     "shell.execute_reply": "2024-06-27T03:18:32.975540Z",
     "shell.execute_reply.started": "2024-06-27T03:18:30.703154Z"
    }
   },
   "outputs": [],
   "source": [
    "import pandas as pd\n",
    "import numpy as np\n",
    "import seaborn as sns\n",
    "import matplotlib.pyplot as plt\n",
    "sns.set_style(\"whitegrid\")\n",
    "\n",
    "from scipy import stats\n",
    "from scipy.stats import shapiro\n",
    "from scipy.stats import chi2_contingency\n",
    "from scipy.stats import chi2\n",
    "\n",
    "\n",
    "from sklearn.model_selection import train_test_split\n",
    "from sklearn.preprocessing import StandardScaler\n",
    "from sklearn.metrics import confusion_matrix\n",
    "from sklearn.metrics import classification_report\n",
    "from sklearn.metrics import roc_auc_score, auc, roc_curve, f1_score, precision_score, recall_score, accuracy_score\n",
    "from sklearn.model_selection import KFold, StratifiedKFold\n",
    "\n",
    "\n",
    "\n",
    "\n",
    "seed=2042 \n",
    "\n",
    "\n",
    "plt.style.use(\"seaborn-whitegrid\")\n",
    "plt.rc(\"figure\", autolayout=True)\n",
    "plt.rc(\"axes\", labelweight=\"bold\", labelsize=\"large\", titleweight=\"bold\", titlesize=14, titlepad=10)"
   ]
  },
  {
   "cell_type": "markdown",
   "metadata": {},
   "source": [
    "## Custom functions definition"
   ]
  },
  {
   "cell_type": "code",
   "execution_count": 3,
   "metadata": {
    "_kg_hide-input": true,
    "execution": {
     "iopub.execute_input": "2024-06-27T03:18:32.991690Z",
     "iopub.status.busy": "2024-06-27T03:18:32.991436Z",
     "iopub.status.idle": "2024-06-27T03:18:33.002326Z",
     "shell.execute_reply": "2024-06-27T03:18:33.001330Z",
     "shell.execute_reply.started": "2024-06-27T03:18:32.991659Z"
    }
   },
   "outputs": [],
   "source": [
    "def num_plot(df, col, title, symb):\n",
    "    fig, ax = plt.subplots(2, 1, figsize=(5.2,5),gridspec_kw={\"height_ratios\": (.1, .9)})\n",
    "    ax[0].set_title(title,fontsize=18)\n",
    "    sns.boxplot(y='placed', x=col, data=df, orient='h', palette=palette, ax=ax[0])\n",
    "    ax[0].set(yticks=[])\n",
    "    ax[0].set_ylabel('')\n",
    "    ax[0].set_xlabel('')\n",
    "    sns.countplot(x=col, data=df, ax=ax[1], hue='placed',palette=palette)\n",
    "    ax[1].set_xlabel(col, fontsize=16)\n",
    "    ax[1].set_yticks([])\n",
    "    for container in ax[1].containers:\n",
    "        ax[1].bar_label(container,fmt='%.1f')\n",
    "    plt.legend(title='Placed?', title_fontsize=14, labels=['no', 'yes'], fontsize=13, fancybox=True, shadow=True, frameon=True)\n",
    "    plt.tight_layout()\n",
    "    plt.show()"
   ]
  },
  {
   "cell_type": "code",
   "execution_count": 4,
   "metadata": {
    "_kg_hide-input": true,
    "_kg_hide-output": true,
    "execution": {
     "iopub.execute_input": "2024-06-27T03:18:33.005371Z",
     "iopub.status.busy": "2024-06-27T03:18:33.004785Z",
     "iopub.status.idle": "2024-06-27T03:18:33.016467Z",
     "shell.execute_reply": "2024-06-27T03:18:33.015319Z",
     "shell.execute_reply.started": "2024-06-27T03:18:33.005313Z"
    }
   },
   "outputs": [],
   "source": [
    "def get_scores(y, y_pred):\n",
    "    data={'Accuracy': np.round(accuracy_score(y, y_pred),2),\n",
    "    'Precision':np.round(precision_score(y, y_pred),2),\n",
    "    'Recall':np.round(recall_score(y, y_pred),2),\n",
    "    'F1':np.round(f1_score(y, y_pred),2),\n",
    "    'ROC AUC':np.round(roc_auc_score(y, y_pred),2)}\n",
    "    scores_df = pd.Series(data).to_frame('scores')\n",
    "    return scores_df"
   ]
  },
  {
   "cell_type": "code",
   "execution_count": 5,
   "metadata": {
    "_kg_hide-input": true,
    "execution": {
     "iopub.execute_input": "2024-06-27T03:18:33.018316Z",
     "iopub.status.busy": "2024-06-27T03:18:33.017853Z",
     "iopub.status.idle": "2024-06-27T03:18:33.032783Z",
     "shell.execute_reply": "2024-06-27T03:18:33.031900Z",
     "shell.execute_reply.started": "2024-06-27T03:18:33.018269Z"
    }
   },
   "outputs": [],
   "source": [
    "def conf_matrix(y, y_pred):\n",
    "    fig, ax =plt.subplots(figsize=(3.5,3.5))\n",
    "    labels=['No','Yes']\n",
    "    ax=sns.heatmap(confusion_matrix(y, y_pred), annot=True, cmap=\"Blues\", fmt='g', cbar=False, annot_kws={\"size\":25})\n",
    "    plt.title('Placed?', fontsize=20)\n",
    "    ax.xaxis.set_ticklabels(labels, fontsize=17) \n",
    "    ax.yaxis.set_ticklabels(labels, fontsize=17)\n",
    "    ax.set_ylabel('Test')\n",
    "    ax.set_xlabel('Predicted')"
   ]
  },
  {
   "cell_type": "markdown",
   "metadata": {},
   "source": [
    "## Importing the Data"
   ]
  },
  {
   "cell_type": "markdown",
   "metadata": {},
   "source": [
    "The dataset has the following columns:\n",
    "- Age : Age At The Time Of Final Year \n",
    "- Gender : Gender Of Candidate \n",
    "- Stream : Engineering Stream That The Candidate Belongs To\n",
    "- Internships : Number Of Internships Undertaken During The Course Of Studies, Not Necessarily Related To College Studies Or Stream\n",
    "- CGPA : CGPA Till 6th Semester\n",
    "- Hostel : Whether Student Lives In College Accomodation\n",
    "- HistoryOfBacklogs : Whether Student Ever Had Any Backlogs In Any Subjects\n",
    "- PlacedOrNot : Target Variable"
   ]
  },
  {
   "cell_type": "code",
   "execution_count": 6,
   "metadata": {
    "execution": {
     "iopub.execute_input": "2024-06-27T03:18:33.034356Z",
     "iopub.status.busy": "2024-06-27T03:18:33.034024Z",
     "iopub.status.idle": "2024-06-27T03:18:33.064520Z",
     "shell.execute_reply": "2024-06-27T03:18:33.063611Z",
     "shell.execute_reply.started": "2024-06-27T03:18:33.034323Z"
    }
   },
   "outputs": [],
   "source": [
    "df = pd.read_csv(r\"C:\\Users\\Admin\\Downloads\\collegePlace.csv\")"
   ]
  },
  {
   "cell_type": "code",
   "execution_count": 7,
   "metadata": {
    "execution": {
     "iopub.execute_input": "2024-06-27T03:18:33.066082Z",
     "iopub.status.busy": "2024-06-27T03:18:33.065772Z",
     "iopub.status.idle": "2024-06-27T03:18:33.089140Z",
     "shell.execute_reply": "2024-06-27T03:18:33.088121Z",
     "shell.execute_reply.started": "2024-06-27T03:18:33.066048Z"
    }
   },
   "outputs": [
    {
     "data": {
      "text/html": [
       "<div>\n",
       "<style scoped>\n",
       "    .dataframe tbody tr th:only-of-type {\n",
       "        vertical-align: middle;\n",
       "    }\n",
       "\n",
       "    .dataframe tbody tr th {\n",
       "        vertical-align: top;\n",
       "    }\n",
       "\n",
       "    .dataframe thead th {\n",
       "        text-align: right;\n",
       "    }\n",
       "</style>\n",
       "<table border=\"1\" class=\"dataframe\">\n",
       "  <thead>\n",
       "    <tr style=\"text-align: right;\">\n",
       "      <th></th>\n",
       "      <th>Age</th>\n",
       "      <th>Gender</th>\n",
       "      <th>Stream</th>\n",
       "      <th>Internships</th>\n",
       "      <th>CGPA</th>\n",
       "      <th>Hostel</th>\n",
       "      <th>HistoryOfBacklogs</th>\n",
       "      <th>PlacedOrNot</th>\n",
       "    </tr>\n",
       "  </thead>\n",
       "  <tbody>\n",
       "    <tr>\n",
       "      <th>0</th>\n",
       "      <td>22</td>\n",
       "      <td>Male</td>\n",
       "      <td>Electronics And Communication</td>\n",
       "      <td>1</td>\n",
       "      <td>8</td>\n",
       "      <td>1</td>\n",
       "      <td>1</td>\n",
       "      <td>1</td>\n",
       "    </tr>\n",
       "    <tr>\n",
       "      <th>1</th>\n",
       "      <td>21</td>\n",
       "      <td>Female</td>\n",
       "      <td>Computer Science</td>\n",
       "      <td>0</td>\n",
       "      <td>7</td>\n",
       "      <td>1</td>\n",
       "      <td>1</td>\n",
       "      <td>1</td>\n",
       "    </tr>\n",
       "    <tr>\n",
       "      <th>2</th>\n",
       "      <td>22</td>\n",
       "      <td>Female</td>\n",
       "      <td>Information Technology</td>\n",
       "      <td>1</td>\n",
       "      <td>6</td>\n",
       "      <td>0</td>\n",
       "      <td>0</td>\n",
       "      <td>1</td>\n",
       "    </tr>\n",
       "    <tr>\n",
       "      <th>3</th>\n",
       "      <td>21</td>\n",
       "      <td>Male</td>\n",
       "      <td>Information Technology</td>\n",
       "      <td>0</td>\n",
       "      <td>8</td>\n",
       "      <td>0</td>\n",
       "      <td>1</td>\n",
       "      <td>1</td>\n",
       "    </tr>\n",
       "    <tr>\n",
       "      <th>4</th>\n",
       "      <td>22</td>\n",
       "      <td>Male</td>\n",
       "      <td>Mechanical</td>\n",
       "      <td>0</td>\n",
       "      <td>8</td>\n",
       "      <td>1</td>\n",
       "      <td>0</td>\n",
       "      <td>1</td>\n",
       "    </tr>\n",
       "  </tbody>\n",
       "</table>\n",
       "</div>"
      ],
      "text/plain": [
       "   Age  Gender                         Stream  Internships  CGPA  Hostel  \\\n",
       "0   22    Male  Electronics And Communication            1     8       1   \n",
       "1   21  Female               Computer Science            0     7       1   \n",
       "2   22  Female         Information Technology            1     6       0   \n",
       "3   21    Male         Information Technology            0     8       0   \n",
       "4   22    Male                     Mechanical            0     8       1   \n",
       "\n",
       "   HistoryOfBacklogs  PlacedOrNot  \n",
       "0                  1            1  \n",
       "1                  1            1  \n",
       "2                  0            1  \n",
       "3                  1            1  \n",
       "4                  0            1  "
      ]
     },
     "execution_count": 7,
     "metadata": {},
     "output_type": "execute_result"
    }
   ],
   "source": [
    "df.head()"
   ]
  },
  {
   "cell_type": "code",
   "execution_count": 8,
   "metadata": {
    "execution": {
     "iopub.execute_input": "2024-06-27T03:18:33.090610Z",
     "iopub.status.busy": "2024-06-27T03:18:33.090295Z",
     "iopub.status.idle": "2024-06-27T03:18:33.115695Z",
     "shell.execute_reply": "2024-06-27T03:18:33.114566Z",
     "shell.execute_reply.started": "2024-06-27T03:18:33.090569Z"
    }
   },
   "outputs": [
    {
     "name": "stdout",
     "output_type": "stream",
     "text": [
      "<class 'pandas.core.frame.DataFrame'>\n",
      "RangeIndex: 2966 entries, 0 to 2965\n",
      "Data columns (total 8 columns):\n",
      " #   Column             Non-Null Count  Dtype \n",
      "---  ------             --------------  ----- \n",
      " 0   Age                2966 non-null   int64 \n",
      " 1   Gender             2966 non-null   object\n",
      " 2   Stream             2966 non-null   object\n",
      " 3   Internships        2966 non-null   int64 \n",
      " 4   CGPA               2966 non-null   int64 \n",
      " 5   Hostel             2966 non-null   int64 \n",
      " 6   HistoryOfBacklogs  2966 non-null   int64 \n",
      " 7   PlacedOrNot        2966 non-null   int64 \n",
      "dtypes: int64(6), object(2)\n",
      "memory usage: 185.5+ KB\n"
     ]
    }
   ],
   "source": [
    "df.info()"
   ]
  },
  {
   "cell_type": "markdown",
   "metadata": {},
   "source": [
    "Good, apparently there are no missing values !"
   ]
  },
  {
   "cell_type": "code",
   "execution_count": 9,
   "metadata": {
    "execution": {
     "iopub.execute_input": "2024-06-27T03:18:33.117094Z",
     "iopub.status.busy": "2024-06-27T03:18:33.116861Z",
     "iopub.status.idle": "2024-06-27T03:18:33.154473Z",
     "shell.execute_reply": "2024-06-27T03:18:33.153516Z",
     "shell.execute_reply.started": "2024-06-27T03:18:33.117064Z"
    }
   },
   "outputs": [
    {
     "data": {
      "text/html": [
       "<div>\n",
       "<style scoped>\n",
       "    .dataframe tbody tr th:only-of-type {\n",
       "        vertical-align: middle;\n",
       "    }\n",
       "\n",
       "    .dataframe tbody tr th {\n",
       "        vertical-align: top;\n",
       "    }\n",
       "\n",
       "    .dataframe thead th {\n",
       "        text-align: right;\n",
       "    }\n",
       "</style>\n",
       "<table border=\"1\" class=\"dataframe\">\n",
       "  <thead>\n",
       "    <tr style=\"text-align: right;\">\n",
       "      <th></th>\n",
       "      <th>Age</th>\n",
       "      <th>Internships</th>\n",
       "      <th>CGPA</th>\n",
       "      <th>Hostel</th>\n",
       "      <th>HistoryOfBacklogs</th>\n",
       "      <th>PlacedOrNot</th>\n",
       "    </tr>\n",
       "  </thead>\n",
       "  <tbody>\n",
       "    <tr>\n",
       "      <th>count</th>\n",
       "      <td>2966.000000</td>\n",
       "      <td>2966.000000</td>\n",
       "      <td>2966.000000</td>\n",
       "      <td>2966.000000</td>\n",
       "      <td>2966.000000</td>\n",
       "      <td>2966.000000</td>\n",
       "    </tr>\n",
       "    <tr>\n",
       "      <th>mean</th>\n",
       "      <td>21.485840</td>\n",
       "      <td>0.703641</td>\n",
       "      <td>7.073837</td>\n",
       "      <td>0.269049</td>\n",
       "      <td>0.192178</td>\n",
       "      <td>0.552596</td>\n",
       "    </tr>\n",
       "    <tr>\n",
       "      <th>std</th>\n",
       "      <td>1.324933</td>\n",
       "      <td>0.740197</td>\n",
       "      <td>0.967748</td>\n",
       "      <td>0.443540</td>\n",
       "      <td>0.394079</td>\n",
       "      <td>0.497310</td>\n",
       "    </tr>\n",
       "    <tr>\n",
       "      <th>min</th>\n",
       "      <td>19.000000</td>\n",
       "      <td>0.000000</td>\n",
       "      <td>5.000000</td>\n",
       "      <td>0.000000</td>\n",
       "      <td>0.000000</td>\n",
       "      <td>0.000000</td>\n",
       "    </tr>\n",
       "    <tr>\n",
       "      <th>25%</th>\n",
       "      <td>21.000000</td>\n",
       "      <td>0.000000</td>\n",
       "      <td>6.000000</td>\n",
       "      <td>0.000000</td>\n",
       "      <td>0.000000</td>\n",
       "      <td>0.000000</td>\n",
       "    </tr>\n",
       "    <tr>\n",
       "      <th>50%</th>\n",
       "      <td>21.000000</td>\n",
       "      <td>1.000000</td>\n",
       "      <td>7.000000</td>\n",
       "      <td>0.000000</td>\n",
       "      <td>0.000000</td>\n",
       "      <td>1.000000</td>\n",
       "    </tr>\n",
       "    <tr>\n",
       "      <th>75%</th>\n",
       "      <td>22.000000</td>\n",
       "      <td>1.000000</td>\n",
       "      <td>8.000000</td>\n",
       "      <td>1.000000</td>\n",
       "      <td>0.000000</td>\n",
       "      <td>1.000000</td>\n",
       "    </tr>\n",
       "    <tr>\n",
       "      <th>max</th>\n",
       "      <td>30.000000</td>\n",
       "      <td>3.000000</td>\n",
       "      <td>9.000000</td>\n",
       "      <td>1.000000</td>\n",
       "      <td>1.000000</td>\n",
       "      <td>1.000000</td>\n",
       "    </tr>\n",
       "  </tbody>\n",
       "</table>\n",
       "</div>"
      ],
      "text/plain": [
       "               Age  Internships         CGPA       Hostel  HistoryOfBacklogs  \\\n",
       "count  2966.000000  2966.000000  2966.000000  2966.000000        2966.000000   \n",
       "mean     21.485840     0.703641     7.073837     0.269049           0.192178   \n",
       "std       1.324933     0.740197     0.967748     0.443540           0.394079   \n",
       "min      19.000000     0.000000     5.000000     0.000000           0.000000   \n",
       "25%      21.000000     0.000000     6.000000     0.000000           0.000000   \n",
       "50%      21.000000     1.000000     7.000000     0.000000           0.000000   \n",
       "75%      22.000000     1.000000     8.000000     1.000000           0.000000   \n",
       "max      30.000000     3.000000     9.000000     1.000000           1.000000   \n",
       "\n",
       "       PlacedOrNot  \n",
       "count  2966.000000  \n",
       "mean      0.552596  \n",
       "std       0.497310  \n",
       "min       0.000000  \n",
       "25%       0.000000  \n",
       "50%       1.000000  \n",
       "75%       1.000000  \n",
       "max       1.000000  "
      ]
     },
     "execution_count": 9,
     "metadata": {},
     "output_type": "execute_result"
    }
   ],
   "source": [
    "df.describe()"
   ]
  },
  {
   "cell_type": "code",
   "execution_count": 10,
   "metadata": {
    "execution": {
     "iopub.execute_input": "2024-06-27T03:18:33.156183Z",
     "iopub.status.busy": "2024-06-27T03:18:33.155951Z",
     "iopub.status.idle": "2024-06-27T03:18:33.187319Z",
     "shell.execute_reply": "2024-06-27T03:18:33.186412Z",
     "shell.execute_reply.started": "2024-06-27T03:18:33.156150Z"
    }
   },
   "outputs": [
    {
     "data": {
      "text/html": [
       "<div>\n",
       "<style scoped>\n",
       "    .dataframe tbody tr th:only-of-type {\n",
       "        vertical-align: middle;\n",
       "    }\n",
       "\n",
       "    .dataframe tbody tr th {\n",
       "        vertical-align: top;\n",
       "    }\n",
       "\n",
       "    .dataframe thead th {\n",
       "        text-align: right;\n",
       "    }\n",
       "</style>\n",
       "<table border=\"1\" class=\"dataframe\">\n",
       "  <thead>\n",
       "    <tr style=\"text-align: right;\">\n",
       "      <th></th>\n",
       "      <th>Age</th>\n",
       "      <th>Internships</th>\n",
       "      <th>CGPA</th>\n",
       "      <th>Hostel</th>\n",
       "      <th>HistoryOfBacklogs</th>\n",
       "      <th>PlacedOrNot</th>\n",
       "    </tr>\n",
       "  </thead>\n",
       "  <tbody>\n",
       "    <tr>\n",
       "      <th>mean</th>\n",
       "      <td>21.48584</td>\n",
       "      <td>0.703641</td>\n",
       "      <td>7.073837</td>\n",
       "      <td>0.269049</td>\n",
       "      <td>0.192178</td>\n",
       "      <td>0.552596</td>\n",
       "    </tr>\n",
       "    <tr>\n",
       "      <th>min</th>\n",
       "      <td>19.00000</td>\n",
       "      <td>0.000000</td>\n",
       "      <td>5.000000</td>\n",
       "      <td>0.000000</td>\n",
       "      <td>0.000000</td>\n",
       "      <td>0.000000</td>\n",
       "    </tr>\n",
       "    <tr>\n",
       "      <th>max</th>\n",
       "      <td>30.00000</td>\n",
       "      <td>3.000000</td>\n",
       "      <td>9.000000</td>\n",
       "      <td>1.000000</td>\n",
       "      <td>1.000000</td>\n",
       "      <td>1.000000</td>\n",
       "    </tr>\n",
       "  </tbody>\n",
       "</table>\n",
       "</div>"
      ],
      "text/plain": [
       "           Age  Internships      CGPA    Hostel  HistoryOfBacklogs  \\\n",
       "mean  21.48584     0.703641  7.073837  0.269049           0.192178   \n",
       "min   19.00000     0.000000  5.000000  0.000000           0.000000   \n",
       "max   30.00000     3.000000  9.000000  1.000000           1.000000   \n",
       "\n",
       "      PlacedOrNot  \n",
       "mean     0.552596  \n",
       "min      0.000000  \n",
       "max      1.000000  "
      ]
     },
     "execution_count": 10,
     "metadata": {},
     "output_type": "execute_result"
    }
   ],
   "source": [
    "df.describe().loc[['mean', 'min', 'max']]"
   ]
  },
  {
   "cell_type": "markdown",
   "metadata": {},
   "source": [
    "We can already get useful information about some features !\n",
    "- Age is between 19 and 30\n",
    "- Minimum number of internships is 0 (no internships) while the max is 3\n",
    "- The majority of students in the dataset did not live in a hostel (Hostel mean is lower than 0.5), \n",
    "- The majority of students does not have backlogs (HistoryOfBacklogs mean is lower than 0.5)\n",
    "- The majority of students have been placed (PlacedOrNot mean is higher than 0.5)"
   ]
  },
  {
   "cell_type": "markdown",
   "metadata": {},
   "source": [
    "Moreover, to simplify further analysis, some columns will be renamed as follows:"
   ]
  },
  {
   "cell_type": "code",
   "execution_count": 11,
   "metadata": {
    "execution": {
     "iopub.execute_input": "2024-06-27T03:18:33.190703Z",
     "iopub.status.busy": "2024-06-27T03:18:33.190443Z",
     "iopub.status.idle": "2024-06-27T03:18:33.196516Z",
     "shell.execute_reply": "2024-06-27T03:18:33.195467Z",
     "shell.execute_reply.started": "2024-06-27T03:18:33.190672Z"
    }
   },
   "outputs": [],
   "source": [
    "df.rename(columns={'HistoryOfBacklogs': 'backlogs', 'PlacedOrNot': 'placed'}, inplace=True)"
   ]
  },
  {
   "cell_type": "markdown",
   "metadata": {},
   "source": [
    "And the other columns will be transformed into lowercase"
   ]
  },
  {
   "cell_type": "code",
   "execution_count": 12,
   "metadata": {
    "execution": {
     "iopub.execute_input": "2024-06-27T03:18:33.197905Z",
     "iopub.status.busy": "2024-06-27T03:18:33.197654Z",
     "iopub.status.idle": "2024-06-27T03:18:33.207869Z",
     "shell.execute_reply": "2024-06-27T03:18:33.206773Z",
     "shell.execute_reply.started": "2024-06-27T03:18:33.197877Z"
    }
   },
   "outputs": [],
   "source": [
    "df = df.rename(columns=str.lower)"
   ]
  },
  {
   "cell_type": "markdown",
   "metadata": {},
   "source": [
    "# Exploratory Data Analysis and Hypothesis Testing"
   ]
  },
  {
   "cell_type": "markdown",
   "metadata": {},
   "source": [
    "We set a palette to improve the following plots readability: we specify the color to be green if the student got placed (placed=1) and red if placed=0."
   ]
  },
  {
   "cell_type": "code",
   "execution_count": 13,
   "metadata": {
    "execution": {
     "iopub.execute_input": "2024-06-27T03:18:33.209393Z",
     "iopub.status.busy": "2024-06-27T03:18:33.209107Z",
     "iopub.status.idle": "2024-06-27T03:18:33.222167Z",
     "shell.execute_reply": "2024-06-27T03:18:33.220914Z",
     "shell.execute_reply.started": "2024-06-27T03:18:33.209354Z"
    }
   },
   "outputs": [],
   "source": [
    "palette = {1:'#46C646', 0:'#FF0000'}"
   ]
  },
  {
   "cell_type": "markdown",
   "metadata": {},
   "source": [
    "We start the analysis by checking the linear correlation (Pearson correlation) between the features:"
   ]
  },
  {
   "cell_type": "code",
   "execution_count": 14,
   "metadata": {
    "execution": {
     "iopub.execute_input": "2024-06-27T03:18:33.224369Z",
     "iopub.status.busy": "2024-06-27T03:18:33.223936Z",
     "iopub.status.idle": "2024-06-27T03:18:33.937504Z",
     "shell.execute_reply": "2024-06-27T03:18:33.936366Z",
     "shell.execute_reply.started": "2024-06-27T03:18:33.224322Z"
    }
   },
   "outputs": [
    {
     "data": {
      "image/png": "[encoded data removed]",
      "text/plain": [
       "<Figure size 432x288 with 2 Axes>"
      ]
     },
     "metadata": {},
     "output_type": "display_data"
    }
   ],
   "source": [
    "sns.heatmap(df.corr(), cmap='RdBu', annot=True, vmin=-1, vmax=1)\n",
    "plt.title('Correlation Matrix');"
   ]
  },
  {
   "cell_type": "markdown",
   "metadata": {},
   "source": [
    "By looking at the correlation matrix we can say:\n",
    "- Quite high linear positive correlation between placed and CGPA (0.59): students with higher CGPA tends to be placed\n",
    "- Small linear positive betwen internships and placed (0.18): students with internships tends to be placed\n",
    "\n",
    "The other linear correlations coefficients look somewhat low. Let's investigate more! "
   ]
  },
  {
   "cell_type": "markdown",
   "metadata": {},
   "source": [
    "# How does CGPA affect job placement?"
   ]
  },
  {
   "cell_type": "code",
   "execution_count": 15,
   "metadata": {
    "execution": {
     "iopub.execute_input": "2024-06-27T03:18:33.939339Z",
     "iopub.status.busy": "2024-06-27T03:18:33.938995Z",
     "iopub.status.idle": "2024-06-27T03:18:34.558205Z",
     "shell.execute_reply": "2024-06-27T03:18:34.557354Z",
     "shell.execute_reply.started": "2024-06-27T03:18:33.939293Z"
    }
   },
   "outputs": [
    {
     "data": {
      "image/png": "[encoded data removed]",
      "text/plain": [
       "<Figure size 374.4x360 with 2 Axes>"
      ]
     },
     "metadata": {},
     "output_type": "display_data"
    }
   ],
   "source": [
    "num_plot(df, 'cgpa', 'CGPA by Placed', '')"
   ]
  },
  {
   "cell_type": "markdown",
   "metadata": {},
   "source": [
    "From these plots we can see that the average CGPA of placed students in higher than the CGPA of not placed students.<br>\n",
    "In particular, from the boxplot we can see that there are some students with a low cgpa (cgpa=5) that still got placed.<br>\n",
    "Who are these students?"
   ]
  },
  {
   "cell_type": "code",
   "execution_count": 16,
   "metadata": {
    "execution": {
     "iopub.execute_input": "2024-06-27T03:18:34.560055Z",
     "iopub.status.busy": "2024-06-27T03:18:34.559704Z",
     "iopub.status.idle": "2024-06-27T03:18:34.576517Z",
     "shell.execute_reply": "2024-06-27T03:18:34.575300Z",
     "shell.execute_reply.started": "2024-06-27T03:18:34.560014Z"
    }
   },
   "outputs": [
    {
     "data": {
      "text/html": [
       "<div>\n",
       "<style scoped>\n",
       "    .dataframe tbody tr th:only-of-type {\n",
       "        vertical-align: middle;\n",
       "    }\n",
       "\n",
       "    .dataframe tbody tr th {\n",
       "        vertical-align: top;\n",
       "    }\n",
       "\n",
       "    .dataframe thead th {\n",
       "        text-align: right;\n",
       "    }\n",
       "</style>\n",
       "<table border=\"1\" class=\"dataframe\">\n",
       "  <thead>\n",
       "    <tr style=\"text-align: right;\">\n",
       "      <th></th>\n",
       "      <th>age</th>\n",
       "      <th>gender</th>\n",
       "      <th>stream</th>\n",
       "      <th>internships</th>\n",
       "      <th>cgpa</th>\n",
       "      <th>hostel</th>\n",
       "      <th>backlogs</th>\n",
       "      <th>placed</th>\n",
       "    </tr>\n",
       "  </thead>\n",
       "  <tbody>\n",
       "    <tr>\n",
       "      <th>118</th>\n",
       "      <td>24</td>\n",
       "      <td>Male</td>\n",
       "      <td>Information Technology</td>\n",
       "      <td>3</td>\n",
       "      <td>5</td>\n",
       "      <td>0</td>\n",
       "      <td>1</td>\n",
       "      <td>1</td>\n",
       "    </tr>\n",
       "    <tr>\n",
       "      <th>122</th>\n",
       "      <td>23</td>\n",
       "      <td>Male</td>\n",
       "      <td>Information Technology</td>\n",
       "      <td>1</td>\n",
       "      <td>5</td>\n",
       "      <td>0</td>\n",
       "      <td>0</td>\n",
       "      <td>1</td>\n",
       "    </tr>\n",
       "    <tr>\n",
       "      <th>137</th>\n",
       "      <td>24</td>\n",
       "      <td>Male</td>\n",
       "      <td>Information Technology</td>\n",
       "      <td>0</td>\n",
       "      <td>5</td>\n",
       "      <td>0</td>\n",
       "      <td>0</td>\n",
       "      <td>1</td>\n",
       "    </tr>\n",
       "    <tr>\n",
       "      <th>140</th>\n",
       "      <td>23</td>\n",
       "      <td>Male</td>\n",
       "      <td>Computer Science</td>\n",
       "      <td>1</td>\n",
       "      <td>5</td>\n",
       "      <td>0</td>\n",
       "      <td>0</td>\n",
       "      <td>1</td>\n",
       "    </tr>\n",
       "    <tr>\n",
       "      <th>143</th>\n",
       "      <td>24</td>\n",
       "      <td>Male</td>\n",
       "      <td>Computer Science</td>\n",
       "      <td>2</td>\n",
       "      <td>5</td>\n",
       "      <td>0</td>\n",
       "      <td>0</td>\n",
       "      <td>1</td>\n",
       "    </tr>\n",
       "    <tr>\n",
       "      <th>144</th>\n",
       "      <td>24</td>\n",
       "      <td>Male</td>\n",
       "      <td>Computer Science</td>\n",
       "      <td>2</td>\n",
       "      <td>5</td>\n",
       "      <td>0</td>\n",
       "      <td>0</td>\n",
       "      <td>1</td>\n",
       "    </tr>\n",
       "    <tr>\n",
       "      <th>152</th>\n",
       "      <td>23</td>\n",
       "      <td>Male</td>\n",
       "      <td>Computer Science</td>\n",
       "      <td>1</td>\n",
       "      <td>5</td>\n",
       "      <td>0</td>\n",
       "      <td>0</td>\n",
       "      <td>1</td>\n",
       "    </tr>\n",
       "  </tbody>\n",
       "</table>\n",
       "</div>"
      ],
      "text/plain": [
       "     age gender                  stream  internships  cgpa  hostel  backlogs  \\\n",
       "118   24   Male  Information Technology            3     5       0         1   \n",
       "122   23   Male  Information Technology            1     5       0         0   \n",
       "137   24   Male  Information Technology            0     5       0         0   \n",
       "140   23   Male        Computer Science            1     5       0         0   \n",
       "143   24   Male        Computer Science            2     5       0         0   \n",
       "144   24   Male        Computer Science            2     5       0         0   \n",
       "152   23   Male        Computer Science            1     5       0         0   \n",
       "\n",
       "     placed  \n",
       "118       1  \n",
       "122       1  \n",
       "137       1  \n",
       "140       1  \n",
       "143       1  \n",
       "144       1  \n",
       "152       1  "
      ]
     },
     "execution_count": 16,
     "metadata": {},
     "output_type": "execute_result"
    }
   ],
   "source": [
    "df.loc[(df['cgpa'] == 5) & (df['placed'] == 1)]"
   ]
  },
  {
   "cell_type": "markdown",
   "metadata": {},
   "source": [
    "These students have very similar features overall. How do they compare to other placed students with similar features?"
   ]
  },
  {
   "cell_type": "code",
   "execution_count": 17,
   "metadata": {
    "execution": {
     "iopub.execute_input": "2024-06-27T03:18:34.578824Z",
     "iopub.status.busy": "2024-06-27T03:18:34.578144Z",
     "iopub.status.idle": "2024-06-27T03:18:34.590018Z",
     "shell.execute_reply": "2024-06-27T03:18:34.589168Z",
     "shell.execute_reply.started": "2024-06-27T03:18:34.578773Z"
    }
   },
   "outputs": [],
   "source": [
    "df_1 = df.loc[((df['age'] == 23) | (df['age'] == 24)) & (df['gender'] == 'Male') &\n",
    " ((df['stream'] == 'Information Technology') | (df['stream'] == 'Computer Science')) & (df['placed'] == 1)]"
   ]
  },
  {
   "cell_type": "code",
   "execution_count": 18,
   "metadata": {
    "execution": {
     "iopub.execute_input": "2024-06-27T03:18:34.591467Z",
     "iopub.status.busy": "2024-06-27T03:18:34.591207Z",
     "iopub.status.idle": "2024-06-27T03:18:35.147790Z",
     "shell.execute_reply": "2024-06-27T03:18:35.146940Z",
     "shell.execute_reply.started": "2024-06-27T03:18:34.591437Z"
    }
   },
   "outputs": [
    {
     "data": {
      "image/png": "[encoded data removed]",
      "text/plain": [
       "<Figure size 864x216 with 2 Axes>"
      ]
     },
     "metadata": {},
     "output_type": "display_data"
    }
   ],
   "source": [
    "fig, ax = plt.subplots(1,2, figsize=(12,3))\n",
    "sns.boxplot(ax=ax[0], x='cgpa', data=df_1)\n",
    "sns.histplot(ax=ax[1], x='cgpa', data=df_1)\n",
    "plt.show()"
   ]
  },
  {
   "cell_type": "markdown",
   "metadata": {},
   "source": [
    "Indeed it looks like these 7 stuents can be considered as outliers. Also among students with similar features, they result to have a very low cgpa while being still placed. We can remove these students from the dataset."
   ]
  },
  {
   "cell_type": "markdown",
   "metadata": {},
   "source": [
    "We will then create a new dataframe called df_clean to host a cleaned version of the dataset."
   ]
  },
  {
   "cell_type": "code",
   "execution_count": 19,
   "metadata": {
    "execution": {
     "iopub.execute_input": "2024-06-27T03:18:35.149452Z",
     "iopub.status.busy": "2024-06-27T03:18:35.149112Z",
     "iopub.status.idle": "2024-06-27T03:18:35.157474Z",
     "shell.execute_reply": "2024-06-27T03:18:35.156578Z",
     "shell.execute_reply.started": "2024-06-27T03:18:35.149417Z"
    }
   },
   "outputs": [],
   "source": [
    "df_clean = df.drop(list(df.loc[(df['cgpa'] == 5) & (df['placed'] == 1)].index))"
   ]
  },
  {
   "cell_type": "code",
   "execution_count": 20,
   "metadata": {
    "execution": {
     "iopub.execute_input": "2024-06-27T03:18:35.159216Z",
     "iopub.status.busy": "2024-06-27T03:18:35.158916Z",
     "iopub.status.idle": "2024-06-27T03:18:35.167944Z",
     "shell.execute_reply": "2024-06-27T03:18:35.166933Z",
     "shell.execute_reply.started": "2024-06-27T03:18:35.159183Z"
    }
   },
   "outputs": [
    {
     "name": "stdout",
     "output_type": "stream",
     "text": [
      "We Removed 7 outliers !\n"
     ]
    }
   ],
   "source": [
    "print('We Removed {} outliers !'.format(len(df)-len(df_clean)))"
   ]
  },
  {
   "cell_type": "markdown",
   "metadata": {},
   "source": [
    "The plots regarding the cleaned dataset are:"
   ]
  },
  {
   "cell_type": "code",
   "execution_count": 21,
   "metadata": {
    "execution": {
     "iopub.execute_input": "2024-06-27T03:18:35.169710Z",
     "iopub.status.busy": "2024-06-27T03:18:35.169298Z",
     "iopub.status.idle": "2024-06-27T03:18:35.744283Z",
     "shell.execute_reply": "2024-06-27T03:18:35.743347Z",
     "shell.execute_reply.started": "2024-06-27T03:18:35.169602Z"
    }
   },
   "outputs": [
    {
     "data": {
      "image/png": "[encoded data removed]",
      "text/plain": [
       "<Figure size 374.4x360 with 2 Axes>"
      ]
     },
     "metadata": {},
     "output_type": "display_data"
    }
   ],
   "source": [
    "num_plot(df_clean, 'cgpa', 'CGPA by Placed', '')"
   ]
  },
  {
   "cell_type": "markdown",
   "metadata": {},
   "source": [
    "# Q1 - Is CGPA independent from placement? (Chi-Square test)"
   ]
  },
  {
   "cell_type": "markdown",
   "metadata": {},
   "source": [
    "\n",
    "## Hypothesis testing for categeorical variables indepedence"
   ]
  },
  {
   "cell_type": "markdown",
   "metadata": {},
   "source": [
    "- H0: CGPA and placed are independent <br>\n",
    "- H1: CGPA and placed are not independent"
   ]
  },
  {
   "cell_type": "code",
   "execution_count": 22,
   "metadata": {
    "execution": {
     "iopub.execute_input": "2024-06-27T03:18:35.745730Z",
     "iopub.status.busy": "2024-06-27T03:18:35.745465Z",
     "iopub.status.idle": "2024-06-27T03:18:35.771557Z",
     "shell.execute_reply": "2024-06-27T03:18:35.770517Z",
     "shell.execute_reply.started": "2024-06-27T03:18:35.745698Z"
    }
   },
   "outputs": [
    {
     "name": "stdout",
     "output_type": "stream",
     "text": [
      "cgpa     5    6    7    8    9\n",
      "placed                        \n",
      "0       89  564  674    0    0\n",
      "1        0  270  282  915  165\n"
     ]
    }
   ],
   "source": [
    "# Create a table of cross-tabulations\n",
    "placed_cgpa = pd.crosstab(df_clean[\"placed\"],df_clean[\"cgpa\"])\n",
    "print(placed_cgpa)"
   ]
  },
  {
   "cell_type": "code",
   "execution_count": 23,
   "metadata": {
    "execution": {
     "iopub.execute_input": "2024-06-27T03:18:35.772974Z",
     "iopub.status.busy": "2024-06-27T03:18:35.772705Z",
     "iopub.status.idle": "2024-06-27T03:18:35.780023Z",
     "shell.execute_reply": "2024-06-27T03:18:35.779057Z",
     "shell.execute_reply.started": "2024-06-27T03:18:35.772943Z"
    }
   },
   "outputs": [
    {
     "name": "stdout",
     "output_type": "stream",
     "text": [
      "Degress of freedom = 4\n",
      "Expected frequencies  [[ 39.91314633 374.0175735  428.72997634 410.34302129  73.99628253]\n",
      " [ 49.08685367 459.9824265  527.27002366 504.65697871  91.00371747]]\n"
     ]
    }
   ],
   "source": [
    "stat, p, dof, expected = chi2_contingency(placed_cgpa)\n",
    "print('Degress of freedom = %d' % dof)\n",
    "print('Expected frequencies ', expected)"
   ]
  },
  {
   "cell_type": "code",
   "execution_count": 24,
   "metadata": {
    "execution": {
     "iopub.execute_input": "2024-06-27T03:18:35.781963Z",
     "iopub.status.busy": "2024-06-27T03:18:35.781574Z",
     "iopub.status.idle": "2024-06-27T03:18:35.797270Z",
     "shell.execute_reply": "2024-06-27T03:18:35.796116Z",
     "shell.execute_reply.started": "2024-06-27T03:18:35.781920Z"
    }
   },
   "outputs": [
    {
     "name": "stdout",
     "output_type": "stream",
     "text": [
      "probability=0.950, critical=9.488, stat=1416.994\n"
     ]
    }
   ],
   "source": [
    "prob = 0.95\n",
    "critical = chi2.ppf(0.95, dof)\n",
    "print('probability=%.3f, critical=%.3f, stat=%.3f' % (prob, critical, stat))"
   ]
  },
  {
   "cell_type": "code",
   "execution_count": 25,
   "metadata": {
    "execution": {
     "iopub.execute_input": "2024-06-27T03:18:35.798924Z",
     "iopub.status.busy": "2024-06-27T03:18:35.798605Z",
     "iopub.status.idle": "2024-06-27T03:18:35.810918Z",
     "shell.execute_reply": "2024-06-27T03:18:35.809850Z",
     "shell.execute_reply.started": "2024-06-27T03:18:35.798890Z"
    }
   },
   "outputs": [
    {
     "name": "stdout",
     "output_type": "stream",
     "text": [
      "The variables are dependent (We reject H0)\n"
     ]
    }
   ],
   "source": [
    "# interpret test-statistic\n",
    "if abs(stat) >= critical:\n",
    "\tprint('The variables are dependent (We reject H0)')\n",
    "else:\n",
    "\tprint('The variables are independent (We fail to reject H0)')"
   ]
  },
  {
   "cell_type": "code",
   "execution_count": 26,
   "metadata": {
    "execution": {
     "iopub.execute_input": "2024-06-27T03:18:35.812567Z",
     "iopub.status.busy": "2024-06-27T03:18:35.812294Z",
     "iopub.status.idle": "2024-06-27T03:18:35.824781Z",
     "shell.execute_reply": "2024-06-27T03:18:35.823868Z",
     "shell.execute_reply.started": "2024-06-27T03:18:35.812536Z"
    }
   },
   "outputs": [
    {
     "name": "stdout",
     "output_type": "stream",
     "text": [
      "Significance = 0.050, p = 0.000\n",
      "The variables are dependent (We reject H0)\n"
     ]
    }
   ],
   "source": [
    "# interpret p-value\n",
    "alpha = 1.0 - prob\n",
    "print('Significance = %.3f, p = %.3f' % (alpha, p))\n",
    "if p <= alpha:\n",
    "\tprint('The variables are dependent (We reject H0)')\n",
    "else:\n",
    "\tprint('The variables are independent (We fail to reject H0)')"
   ]
  },
  {
   "cell_type": "markdown",
   "metadata": {},
   "source": [
    "We can see that :\n",
    "- The P-value is lower than the significance level of 5%, so we can reject the null hypothesis with a confidence of 95%.\n",
    "\n",
    "- The Test-statistic is inferior than the critical value, so we can reject the null hypothesis with a confidence of 95%."
   ]
  },
  {
   "cell_type": "markdown",
   "metadata": {},
   "source": [
    "**This means, that cgpa and placement are not independent with a confidence level of 95%**"
   ]
  },
  {
   "cell_type": "markdown",
   "metadata": {},
   "source": [
    "# How do internship numbers affect job placement?"
   ]
  },
  {
   "cell_type": "code",
   "execution_count": 27,
   "metadata": {
    "execution": {
     "iopub.execute_input": "2024-06-27T03:18:35.826487Z",
     "iopub.status.busy": "2024-06-27T03:18:35.826213Z",
     "iopub.status.idle": "2024-06-27T03:18:36.363595Z",
     "shell.execute_reply": "2024-06-27T03:18:36.362634Z",
     "shell.execute_reply.started": "2024-06-27T03:18:35.826456Z"
    }
   },
   "outputs": [
    {
     "data": {
      "image/png": "[encoded data removed]",
      "text/plain": [
       "<Figure size 374.4x360 with 2 Axes>"
      ]
     },
     "metadata": {},
     "output_type": "display_data"
    }
   ],
   "source": [
    "num_plot(df_clean, 'internships', 'No. Internships by Placed', '')"
   ]
  },
  {
   "cell_type": "markdown",
   "metadata": {},
   "source": [
    "We can see that students who had 2 ore more internships tends to be placed."
   ]
  },
  {
   "cell_type": "markdown",
   "metadata": {},
   "source": [
    "Moreover, from the boxplots, we can see that students who did 3 internships are labeled as outliers, lets check!"
   ]
  },
  {
   "cell_type": "markdown",
   "metadata": {},
   "source": [
    "# Analysis of students with many internships (3 internships)"
   ]
  },
  {
   "cell_type": "code",
   "execution_count": 28,
   "metadata": {
    "execution": {
     "iopub.execute_input": "2024-06-27T03:18:36.365306Z",
     "iopub.status.busy": "2024-06-27T03:18:36.365017Z",
     "iopub.status.idle": "2024-06-27T03:18:36.370989Z",
     "shell.execute_reply": "2024-06-27T03:18:36.369955Z",
     "shell.execute_reply.started": "2024-06-27T03:18:36.365271Z"
    }
   },
   "outputs": [],
   "source": [
    "df_int = df.loc[df['internships'] == 3]"
   ]
  },
  {
   "cell_type": "code",
   "execution_count": 29,
   "metadata": {
    "_kg_hide-input": true,
    "execution": {
     "iopub.execute_input": "2024-06-27T03:18:36.372932Z",
     "iopub.status.busy": "2024-06-27T03:18:36.372550Z",
     "iopub.status.idle": "2024-06-27T03:18:37.526091Z",
     "shell.execute_reply": "2024-06-27T03:18:37.525103Z",
     "shell.execute_reply.started": "2024-06-27T03:18:36.372889Z"
    }
   },
   "outputs": [
    {
     "data": {
      "image/png": "[encoded data removed]",
      "text/plain": [
       "<Figure size 1080x288 with 4 Axes>"
      ]
     },
     "metadata": {},
     "output_type": "display_data"
    }
   ],
   "source": [
    "fig, ax = plt.subplots(1,4, figsize=(15,4))\n",
    "plt.suptitle('Analysis of students with 3 internships')\n",
    "sns.countplot(ax=ax[0], x='placed', data=df_int,palette=palette)\n",
    "for container in ax[0].containers:\n",
    "    ax[0].bar_label(container)\n",
    "sns.countplot(ax=ax[1], x='gender', hue='placed', data=df_int,palette=palette)\n",
    "for container in ax[1].containers:\n",
    "    ax[1].bar_label(container)\n",
    "sns.countplot(ax=ax[2], x='age', data=df_int, hue='placed',palette=palette)\n",
    "for container in ax[2].containers:\n",
    "    ax[2].bar_label(container)\n",
    "sns.countplot(ax=ax[3], x='backlogs', hue='placed', data=df_int,palette=palette)\n",
    "for container in ax[3].containers:\n",
    "    ax[3].bar_label(container)\n",
    "plt.legend(title='placed?', loc='upper right', labels=['no', 'yes'])\n",
    "plt.show()"
   ]
  },
  {
   "cell_type": "markdown",
   "metadata": {},
   "source": [
    "From these plots about students with 3 internships we can state:\n",
    "- Most of the students are placed\n",
    "- Most of them have no history of backlogs. In particular, the great majority of students with no backlogs got placed.\n",
    "- The mean age is around 21-22 yo, with some students older than 22 who all got placed."
   ]
  },
  {
   "cell_type": "markdown",
   "metadata": {},
   "source": [
    "# Q2 - Does the number internships affect the probability of getting placed? (chi square test)"
   ]
  },
  {
   "cell_type": "markdown",
   "metadata": {},
   "source": [
    "## Hypothesis testing for categeorical variables indepedence"
   ]
  },
  {
   "cell_type": "markdown",
   "metadata": {},
   "source": [
    "- H0: Number of internships and placed are independent <br>\n",
    "- H1: Number of internships and placed are not independent"
   ]
  },
  {
   "cell_type": "code",
   "execution_count": 30,
   "metadata": {
    "execution": {
     "iopub.execute_input": "2024-06-27T03:18:37.527625Z",
     "iopub.status.busy": "2024-06-27T03:18:37.527363Z",
     "iopub.status.idle": "2024-06-27T03:18:37.549700Z",
     "shell.execute_reply": "2024-06-27T03:18:37.548706Z",
     "shell.execute_reply.started": "2024-06-27T03:18:37.527592Z"
    }
   },
   "outputs": [
    {
     "name": "stdout",
     "output_type": "stream",
     "text": [
      "internships    0    1    2   3\n",
      "placed                        \n",
      "0            677  572   68  10\n",
      "1            653  659  280  40\n"
     ]
    }
   ],
   "source": [
    "# Create a table of cross-tabulations\n",
    "table = pd.crosstab(df_clean[\"placed\"],df_clean[\"internships\"])\n",
    "print(table)"
   ]
  },
  {
   "cell_type": "code",
   "execution_count": 31,
   "metadata": {
    "execution": {
     "iopub.execute_input": "2024-06-27T03:18:37.551443Z",
     "iopub.status.busy": "2024-06-27T03:18:37.551166Z",
     "iopub.status.idle": "2024-06-27T03:18:37.559534Z",
     "shell.execute_reply": "2024-06-27T03:18:37.558653Z",
     "shell.execute_reply.started": "2024-06-27T03:18:37.551412Z"
    }
   },
   "outputs": [
    {
     "name": "stdout",
     "output_type": "stream",
     "text": [
      "Degress of freedom = 3\n",
      "Expected frequencies  [[596.45488341 552.05711389 156.06488679  22.42311592]\n",
      " [733.54511659 678.94288611 191.93511321  27.57688408]]\n"
     ]
    }
   ],
   "source": [
    "stat, p, dof, expected = chi2_contingency(table)\n",
    "print('Degress of freedom = %d' % dof)\n",
    "print('Expected frequencies ', expected)"
   ]
  },
  {
   "cell_type": "code",
   "execution_count": 32,
   "metadata": {
    "execution": {
     "iopub.execute_input": "2024-06-27T03:18:37.566378Z",
     "iopub.status.busy": "2024-06-27T03:18:37.566084Z",
     "iopub.status.idle": "2024-06-27T03:18:37.572995Z",
     "shell.execute_reply": "2024-06-27T03:18:37.571899Z",
     "shell.execute_reply.started": "2024-06-27T03:18:37.566346Z"
    }
   },
   "outputs": [
    {
     "name": "stdout",
     "output_type": "stream",
     "text": [
      "probability=0.950, critical=7.815, stat=123.606\n"
     ]
    }
   ],
   "source": [
    "prob = 0.95\n",
    "critical = chi2.ppf(0.95, dof)\n",
    "print('probability=%.3f, critical=%.3f, stat=%.3f' % (prob, critical, stat))"
   ]
  },
  {
   "cell_type": "code",
   "execution_count": 33,
   "metadata": {
    "execution": {
     "iopub.execute_input": "2024-06-27T03:18:37.574653Z",
     "iopub.status.busy": "2024-06-27T03:18:37.574385Z",
     "iopub.status.idle": "2024-06-27T03:18:37.585786Z",
     "shell.execute_reply": "2024-06-27T03:18:37.584799Z",
     "shell.execute_reply.started": "2024-06-27T03:18:37.574623Z"
    }
   },
   "outputs": [
    {
     "name": "stdout",
     "output_type": "stream",
     "text": [
      "The variables are dependent (We reject H0)\n"
     ]
    }
   ],
   "source": [
    "# interpret test-statistic\n",
    "if abs(stat) >= critical:\n",
    "\tprint('The variables are dependent (We reject H0)')\n",
    "else:\n",
    "\tprint('The variables are independent (We fail to reject H0)')"
   ]
  },
  {
   "cell_type": "code",
   "execution_count": 34,
   "metadata": {
    "execution": {
     "iopub.execute_input": "2024-06-27T03:18:37.587359Z",
     "iopub.status.busy": "2024-06-27T03:18:37.587076Z",
     "iopub.status.idle": "2024-06-27T03:18:37.603031Z",
     "shell.execute_reply": "2024-06-27T03:18:37.601941Z",
     "shell.execute_reply.started": "2024-06-27T03:18:37.587329Z"
    }
   },
   "outputs": [
    {
     "name": "stdout",
     "output_type": "stream",
     "text": [
      "Significance = 0.050, p = 0.000\n",
      "The variables are dependent (We reject H0)\n"
     ]
    }
   ],
   "source": [
    "# interpret p-value\n",
    "alpha = 1.0 - prob\n",
    "print('Significance = %.3f, p = %.3f' % (alpha, p))\n",
    "if p <= alpha:\n",
    "\tprint('The variables are dependent (We reject H0)')\n",
    "else:\n",
    "\tprint('The variables are independent (We fail to reject H0)')"
   ]
  },
  {
   "cell_type": "markdown",
   "metadata": {},
   "source": [
    "We can see that :\n",
    "- The P-value is lower than the significance level of 5%, so we can reject the null hypothesis with a confidence of 95%.\n",
    "\n",
    "- The Test-statistic is inferior than the critical value, so we can reject the null hypothesis with a confidence of 95%."
   ]
  },
  {
   "cell_type": "markdown",
   "metadata": {},
   "source": [
    "This means, that the number of internships affects placement.<br>\n",
    "In particular, from the plots we could see that students who did 2 or more internships placed a job more than students who did less internships."
   ]
  },
  {
   "cell_type": "markdown",
   "metadata": {},
   "source": [
    "# Q3 - Is gender indepedent from 'placement'? (chi square test)"
   ]
  },
  {
   "cell_type": "markdown",
   "metadata": {},
   "source": [
    "In the following we will carry out a chi square test to test if gender and placed are independent. In other words, we are asking ourselves if placement depends on sex or not.\n"
   ]
  },
  {
   "cell_type": "code",
   "execution_count": 35,
   "metadata": {
    "_kg_hide-input": true,
    "execution": {
     "iopub.execute_input": "2024-06-27T03:18:37.604606Z",
     "iopub.status.busy": "2024-06-27T03:18:37.604318Z",
     "iopub.status.idle": "2024-06-27T03:18:37.844196Z",
     "shell.execute_reply": "2024-06-27T03:18:37.843272Z",
     "shell.execute_reply.started": "2024-06-27T03:18:37.604569Z"
    }
   },
   "outputs": [
    {
     "data": {
      "image/png": "[encoded data removed]",
      "text/plain": [
       "<Figure size 360x288 with 1 Axes>"
      ]
     },
     "metadata": {},
     "output_type": "display_data"
    }
   ],
   "source": [
    "plt.figure(figsize=(5,4))\n",
    "plt.title('Placed by gender')\n",
    "g = sns.countplot(x='gender', data=df_clean, hue='placed',palette=palette)\n",
    "for container in g.containers:\n",
    "    g.bar_label(container)\n",
    "plt.legend(title='Placed?', title_fontsize=14, labels=['no', 'yes'], fontsize=13, fancybox=True, shadow=True, frameon=True)\n",
    "plt.yticks([])\n",
    "plt.show()"
   ]
  },
  {
   "cell_type": "markdown",
   "metadata": {},
   "source": [
    "- H0: gender and placement are independent <br>\n",
    "- H1: gender and placement are not dependent"
   ]
  },
  {
   "cell_type": "code",
   "execution_count": 36,
   "metadata": {
    "execution": {
     "iopub.execute_input": "2024-06-27T03:18:37.848100Z",
     "iopub.status.busy": "2024-06-27T03:18:37.845410Z",
     "iopub.status.idle": "2024-06-27T03:18:37.870264Z",
     "shell.execute_reply": "2024-06-27T03:18:37.869383Z",
     "shell.execute_reply.started": "2024-06-27T03:18:37.848048Z"
    }
   },
   "outputs": [
    {
     "name": "stdout",
     "output_type": "stream",
     "text": [
      "placed     0     1\n",
      "gender            \n",
      "Female   216   275\n",
      "Male    1111  1357\n"
     ]
    }
   ],
   "source": [
    "# Create a table of cross-tabulations\n",
    "table = pd.crosstab(df_clean[\"gender\"],df_clean[\"placed\"])\n",
    "print(table)"
   ]
  },
  {
   "cell_type": "code",
   "execution_count": 37,
   "metadata": {
    "execution": {
     "iopub.execute_input": "2024-06-27T03:18:37.872328Z",
     "iopub.status.busy": "2024-06-27T03:18:37.871651Z",
     "iopub.status.idle": "2024-06-27T03:18:37.881785Z",
     "shell.execute_reply": "2024-06-27T03:18:37.880360Z",
     "shell.execute_reply.started": "2024-06-27T03:18:37.872283Z"
    }
   },
   "outputs": [
    {
     "name": "stdout",
     "output_type": "stream",
     "text": [
      "Degress of freedom = 1\n",
      "Expected frequencies  [[ 220.19499831  270.80500169]\n",
      " [1106.80500169 1361.19499831]]\n"
     ]
    }
   ],
   "source": [
    "stat, p, dof, expected = chi2_contingency(table)\n",
    "print('Degress of freedom = %d' % dof)\n",
    "print('Expected frequencies ', expected)"
   ]
  },
  {
   "cell_type": "code",
   "execution_count": 38,
   "metadata": {
    "execution": {
     "iopub.execute_input": "2024-06-27T03:18:37.884241Z",
     "iopub.status.busy": "2024-06-27T03:18:37.883401Z",
     "iopub.status.idle": "2024-06-27T03:18:37.896476Z",
     "shell.execute_reply": "2024-06-27T03:18:37.895428Z",
     "shell.execute_reply.started": "2024-06-27T03:18:37.884194Z"
    }
   },
   "outputs": [
    {
     "name": "stdout",
     "output_type": "stream",
     "text": [
      "probability=0.950, critical=3.841, stat=0.135\n"
     ]
    }
   ],
   "source": [
    "prob = 0.95\n",
    "critical = chi2.ppf(0.95, dof)\n",
    "print('probability=%.3f, critical=%.3f, stat=%.3f' % (prob, critical, stat))"
   ]
  },
  {
   "cell_type": "code",
   "execution_count": 39,
   "metadata": {
    "execution": {
     "iopub.execute_input": "2024-06-27T03:18:37.900511Z",
     "iopub.status.busy": "2024-06-27T03:18:37.899702Z",
     "iopub.status.idle": "2024-06-27T03:18:37.908965Z",
     "shell.execute_reply": "2024-06-27T03:18:37.907827Z",
     "shell.execute_reply.started": "2024-06-27T03:18:37.900461Z"
    }
   },
   "outputs": [
    {
     "name": "stdout",
     "output_type": "stream",
     "text": [
      "Significance = 0.050, p = 0.714\n",
      "The variables are independent (We fail to reject H0)\n"
     ]
    }
   ],
   "source": [
    "# interpret p-value\n",
    "alpha = 1.0 - prob\n",
    "print('Significance = %.3f, p = %.3f' % (alpha, p))\n",
    "if p <= alpha:\n",
    "\tprint('The variables are dependent (We reject H0)')\n",
    "else:\n",
    "\tprint('The variables are independent (We fail to reject H0)')"
   ]
  },
  {
   "cell_type": "markdown",
   "metadata": {},
   "source": [
    "The p-value is definitely higher than 0.05 (0.752), so at a 95% confidence level we cannot reject the null hypothesis of indipendence between gender and sex."
   ]
  },
  {
   "cell_type": "markdown",
   "metadata": {},
   "source": [
    "**Sex and placement are independent with a confidence of 95%.**"
   ]
  },
  {
   "cell_type": "markdown",
   "metadata": {},
   "source": [
    "# Q4 - Does the number of backlogs affect the placement? (chi square test)"
   ]
  },
  {
   "cell_type": "code",
   "execution_count": 40,
   "metadata": {
    "_kg_hide-input": true,
    "execution": {
     "iopub.execute_input": "2024-06-27T03:18:37.911186Z",
     "iopub.status.busy": "2024-06-27T03:18:37.910410Z",
     "iopub.status.idle": "2024-06-27T03:18:38.138802Z",
     "shell.execute_reply": "2024-06-27T03:18:38.137807Z",
     "shell.execute_reply.started": "2024-06-27T03:18:37.911139Z"
    }
   },
   "outputs": [
    {
     "data": {
      "image/png": "[encoded data removed]",
      "text/plain": [
       "<Figure size 288x288 with 1 Axes>"
      ]
     },
     "metadata": {},
     "output_type": "display_data"
    }
   ],
   "source": [
    "plt.figure(figsize=(4,4))\n",
    "plt.title('Placed by backlogs')\n",
    "g = sns.countplot(x='backlogs', data=df_clean, hue='placed',palette=palette)\n",
    "for container in g.containers:\n",
    "    g.bar_label(container)\n",
    "plt.legend(title='Placed?', title_fontsize=14, labels=['no', 'yes'], fontsize=13, fancybox=True, shadow=True, frameon=True)\n",
    "plt.yticks([])\n",
    "plt.show()"
   ]
  },
  {
   "cell_type": "markdown",
   "metadata": {},
   "source": [
    "It is not clear if backlogs and placed are independent, we will carry out a chi square test to check it !"
   ]
  },
  {
   "cell_type": "markdown",
   "metadata": {},
   "source": [
    "- H0: backlogs and placement are independent <br>\n",
    "- H1: backlogs and placement are not independent"
   ]
  },
  {
   "cell_type": "code",
   "execution_count": 41,
   "metadata": {
    "execution": {
     "iopub.execute_input": "2024-06-27T03:18:38.140973Z",
     "iopub.status.busy": "2024-06-27T03:18:38.140606Z",
     "iopub.status.idle": "2024-06-27T03:18:38.162091Z",
     "shell.execute_reply": "2024-06-27T03:18:38.161172Z",
     "shell.execute_reply.started": "2024-06-27T03:18:38.140929Z"
    }
   },
   "outputs": [
    {
     "name": "stdout",
     "output_type": "stream",
     "text": [
      "placed       0     1\n",
      "backlogs            \n",
      "0         1059  1331\n",
      "1          268   301\n"
     ]
    }
   ],
   "source": [
    "logs_plac = pd.crosstab(df_clean[\"backlogs\"],df_clean[\"placed\"])\n",
    "print(logs_plac)"
   ]
  },
  {
   "cell_type": "code",
   "execution_count": 42,
   "metadata": {
    "execution": {
     "iopub.execute_input": "2024-06-27T03:18:38.163673Z",
     "iopub.status.busy": "2024-06-27T03:18:38.163407Z",
     "iopub.status.idle": "2024-06-27T03:18:38.171383Z",
     "shell.execute_reply": "2024-06-27T03:18:38.170509Z",
     "shell.execute_reply.started": "2024-06-27T03:18:38.163641Z"
    }
   },
   "outputs": [
    {
     "name": "stdout",
     "output_type": "stream",
     "text": [
      "Degress of freedom = 1\n",
      "Expected frequencies  [[1071.82494086 1318.17505914]\n",
      " [ 255.17505914  313.82494086]]\n"
     ]
    }
   ],
   "source": [
    "stat, p, dof, expected = chi2_contingency(logs_plac)\n",
    "print('Degress of freedom = %d' % dof)\n",
    "print('Expected frequencies ', expected)"
   ]
  },
  {
   "cell_type": "code",
   "execution_count": 43,
   "metadata": {
    "execution": {
     "iopub.execute_input": "2024-06-27T03:18:38.172966Z",
     "iopub.status.busy": "2024-06-27T03:18:38.172678Z",
     "iopub.status.idle": "2024-06-27T03:18:38.183330Z",
     "shell.execute_reply": "2024-06-27T03:18:38.182397Z",
     "shell.execute_reply.started": "2024-06-27T03:18:38.172926Z"
    }
   },
   "outputs": [
    {
     "name": "stdout",
     "output_type": "stream",
     "text": [
      "probability=0.950, critical=3.841, stat=1.336\n",
      "The variables are independent (We fail to reject H0)\n",
      "Significance = 0.050, p = 0.248\n",
      "The variables are independent (We fail to reject H0)\n"
     ]
    }
   ],
   "source": [
    "prob = 0.95\n",
    "critical = chi2.ppf(prob, dof)\n",
    "print('probability=%.3f, critical=%.3f, stat=%.3f' % (prob, critical, stat))\n",
    "# interpret test-statistic\n",
    "if abs(stat) >= critical:\n",
    "\tprint('The variables are dependent (We reject H0)')\n",
    "else:\n",
    "\tprint('The variables are independent (We fail to reject H0)')\n",
    "# interpret p-value\n",
    "alpha = 1.0 - prob\n",
    "print('Significance = %.3f, p = %.3f' % (alpha, p))\n",
    "if p <= alpha:\n",
    "\tprint('The variables are dependent (We reject H0)')\n",
    "else:\n",
    "\tprint('The variables are independent (We fail to reject H0)')"
   ]
  },
  {
   "cell_type": "markdown",
   "metadata": {},
   "source": [
    "\n",
    "\n",
    "**From the test we conclude that we cannot reject the null hypotheis of independence between backlogs and placement with a confidence of 95%**"
   ]
  },
  {
   "cell_type": "markdown",
   "metadata": {},
   "source": [
    "# Q5 - Does 'Hostel' affect the placement? (chi square test)"
   ]
  },
  {
   "cell_type": "code",
   "execution_count": 44,
   "metadata": {
    "_kg_hide-input": true,
    "execution": {
     "iopub.execute_input": "2024-06-27T03:18:38.184856Z",
     "iopub.status.busy": "2024-06-27T03:18:38.184531Z",
     "iopub.status.idle": "2024-06-27T03:18:38.426553Z",
     "shell.execute_reply": "2024-06-27T03:18:38.425688Z",
     "shell.execute_reply.started": "2024-06-27T03:18:38.184799Z"
    }
   },
   "outputs": [
    {
     "data": {
      "image/png": "[encoded data removed]",
      "text/plain": [
       "<Figure size 288x288 with 1 Axes>"
      ]
     },
     "metadata": {},
     "output_type": "display_data"
    }
   ],
   "source": [
    "plt.figure(figsize=(4,4))\n",
    "plt.title('Hostel by placed')\n",
    "g = sns.countplot(x='hostel', data=df_clean, hue='placed',palette=palette)\n",
    "for container in g.containers:\n",
    "    g.bar_label(container)\n",
    "plt.legend(title='Placed?', title_fontsize=14, labels=['no', 'yes'], fontsize=13, fancybox=True, shadow=True, frameon=True)\n",
    "plt.yticks([])\n",
    "plt.show()"
   ]
  },
  {
   "cell_type": "markdown",
   "metadata": {},
   "source": [
    "It is not clear if hostel and placed are independent, we will carry out a chi square test to check it !"
   ]
  },
  {
   "cell_type": "markdown",
   "metadata": {},
   "source": [
    "- H0: hostel and placement are independent <br>\n",
    "- H1: hostel and placement are not independent"
   ]
  },
  {
   "cell_type": "code",
   "execution_count": 45,
   "metadata": {
    "execution": {
     "iopub.execute_input": "2024-06-27T03:18:38.430146Z",
     "iopub.status.busy": "2024-06-27T03:18:38.429882Z",
     "iopub.status.idle": "2024-06-27T03:18:38.449883Z",
     "shell.execute_reply": "2024-06-27T03:18:38.448832Z",
     "shell.execute_reply.started": "2024-06-27T03:18:38.430118Z"
    }
   },
   "outputs": [
    {
     "name": "stdout",
     "output_type": "stream",
     "text": [
      "placed    0     1\n",
      "hostel           \n",
      "0       945  1216\n",
      "1       382   416\n"
     ]
    }
   ],
   "source": [
    "host_plac = pd.crosstab(df_clean[\"hostel\"],df_clean[\"placed\"])\n",
    "print(host_plac)"
   ]
  },
  {
   "cell_type": "code",
   "execution_count": 46,
   "metadata": {
    "execution": {
     "iopub.execute_input": "2024-06-27T03:18:38.451720Z",
     "iopub.status.busy": "2024-06-27T03:18:38.451329Z",
     "iopub.status.idle": "2024-06-27T03:18:38.459931Z",
     "shell.execute_reply": "2024-06-27T03:18:38.458703Z",
     "shell.execute_reply.started": "2024-06-27T03:18:38.451612Z"
    }
   },
   "outputs": [
    {
     "name": "stdout",
     "output_type": "stream",
     "text": [
      "Degress of freedom = 1\n",
      "Expected frequencies  [[ 969.12706996 1191.87293004]\n",
      " [ 357.87293004  440.12706996]]\n"
     ]
    }
   ],
   "source": [
    "stat, p, dof, expected = chi2_contingency(host_plac)\n",
    "print('Degress of freedom = %d' % dof)\n",
    "print('Expected frequencies ', expected)"
   ]
  },
  {
   "cell_type": "code",
   "execution_count": 47,
   "metadata": {
    "execution": {
     "iopub.execute_input": "2024-06-27T03:18:38.462303Z",
     "iopub.status.busy": "2024-06-27T03:18:38.461961Z",
     "iopub.status.idle": "2024-06-27T03:18:38.473585Z",
     "shell.execute_reply": "2024-06-27T03:18:38.472530Z",
     "shell.execute_reply.started": "2024-06-27T03:18:38.462260Z"
    }
   },
   "outputs": [
    {
     "name": "stdout",
     "output_type": "stream",
     "text": [
      "probability=0.950, critical=3.841, stat=3.873\n",
      "The variables are dependent (We reject H0)\n",
      "Significance = 0.050, p = 0.049\n",
      "The variables are dependent (We reject H0)\n"
     ]
    }
   ],
   "source": [
    "prob = 0.95\n",
    "critical = chi2.ppf(prob, dof)\n",
    "print('probability=%.3f, critical=%.3f, stat=%.3f' % (prob, critical, stat))\n",
    "# interpret test-statistic\n",
    "if abs(stat) >= critical:\n",
    "\tprint('The variables are dependent (We reject H0)')\n",
    "else:\n",
    "\tprint('The variables are independent (We fail to reject H0)')\n",
    "# interpret p-value\n",
    "alpha = 1.0 - prob\n",
    "print('Significance = %.3f, p = %.3f' % (alpha, p))\n",
    "if p <= alpha:\n",
    "\tprint('The variables are dependent (We reject H0)')\n",
    "else:\n",
    "\tprint('The variables are independent (We fail to reject H0)')"
   ]
  },
  {
   "cell_type": "markdown",
   "metadata": {},
   "source": [
    "**We can conclude that the feature 'hostel' affects the placement. In particular, it looks like that students who didnt live in a college accomodation tended to be placed.**"
   ]
  },
  {
   "cell_type": "markdown",
   "metadata": {},
   "source": [
    "# Q6 - Does age affect job placement?"
   ]
  },
  {
   "cell_type": "code",
   "execution_count": 48,
   "metadata": {
    "_kg_hide-input": true,
    "execution": {
     "iopub.execute_input": "2024-06-27T03:18:38.475477Z",
     "iopub.status.busy": "2024-06-27T03:18:38.475164Z",
     "iopub.status.idle": "2024-06-27T03:18:39.434210Z",
     "shell.execute_reply": "2024-06-27T03:18:39.433324Z",
     "shell.execute_reply.started": "2024-06-27T03:18:38.475434Z"
    }
   },
   "outputs": [
    {
     "data": {
      "image/png": "[encoded data removed]",
      "text/plain": [
       "<Figure size 1080x288 with 4 Axes>"
      ]
     },
     "metadata": {},
     "output_type": "display_data"
    }
   ],
   "source": [
    "fig, ax = plt.subplots(1,4, figsize=(15,4))\n",
    "sns.countplot(ax=ax[0], x='age', data=df_clean)\n",
    "sns.barplot(ax=ax[1], x='placed', y='age', data=df_clean,palette=palette)\n",
    "sns.boxplot(ax=ax[2], x='placed', y='age', data=df_clean,palette=palette)\n",
    "sns.countplot(ax=ax[3], x='age', data=df_clean, hue='placed',palette=palette)\n",
    "plt.show()"
   ]
  },
  {
   "cell_type": "markdown",
   "metadata": {},
   "source": [
    "It seems like there is no clear relationship between age and 'placed'. For placed students, there are some outlier values of 'age' consisted of students with an age higher than 26.<br>\n",
    "Who are these students?"
   ]
  },
  {
   "cell_type": "code",
   "execution_count": 49,
   "metadata": {
    "execution": {
     "iopub.execute_input": "2024-06-27T03:18:39.435761Z",
     "iopub.status.busy": "2024-06-27T03:18:39.435514Z",
     "iopub.status.idle": "2024-06-27T03:18:39.451043Z",
     "shell.execute_reply": "2024-06-27T03:18:39.450065Z",
     "shell.execute_reply.started": "2024-06-27T03:18:39.435731Z"
    }
   },
   "outputs": [
    {
     "data": {
      "text/html": [
       "<div>\n",
       "<style scoped>\n",
       "    .dataframe tbody tr th:only-of-type {\n",
       "        vertical-align: middle;\n",
       "    }\n",
       "\n",
       "    .dataframe tbody tr th {\n",
       "        vertical-align: top;\n",
       "    }\n",
       "\n",
       "    .dataframe thead th {\n",
       "        text-align: right;\n",
       "    }\n",
       "</style>\n",
       "<table border=\"1\" class=\"dataframe\">\n",
       "  <thead>\n",
       "    <tr style=\"text-align: right;\">\n",
       "      <th></th>\n",
       "      <th>age</th>\n",
       "      <th>gender</th>\n",
       "      <th>stream</th>\n",
       "      <th>internships</th>\n",
       "      <th>cgpa</th>\n",
       "      <th>hostel</th>\n",
       "      <th>backlogs</th>\n",
       "      <th>placed</th>\n",
       "    </tr>\n",
       "  </thead>\n",
       "  <tbody>\n",
       "    <tr>\n",
       "      <th>448</th>\n",
       "      <td>28</td>\n",
       "      <td>Male</td>\n",
       "      <td>Civil</td>\n",
       "      <td>0</td>\n",
       "      <td>8</td>\n",
       "      <td>1</td>\n",
       "      <td>0</td>\n",
       "      <td>1</td>\n",
       "    </tr>\n",
       "    <tr>\n",
       "      <th>550</th>\n",
       "      <td>30</td>\n",
       "      <td>Male</td>\n",
       "      <td>Computer Science</td>\n",
       "      <td>1</td>\n",
       "      <td>8</td>\n",
       "      <td>0</td>\n",
       "      <td>0</td>\n",
       "      <td>1</td>\n",
       "    </tr>\n",
       "    <tr>\n",
       "      <th>1444</th>\n",
       "      <td>28</td>\n",
       "      <td>Female</td>\n",
       "      <td>Computer Science</td>\n",
       "      <td>3</td>\n",
       "      <td>8</td>\n",
       "      <td>1</td>\n",
       "      <td>0</td>\n",
       "      <td>1</td>\n",
       "    </tr>\n",
       "    <tr>\n",
       "      <th>2333</th>\n",
       "      <td>29</td>\n",
       "      <td>Female</td>\n",
       "      <td>Mechanical</td>\n",
       "      <td>1</td>\n",
       "      <td>8</td>\n",
       "      <td>1</td>\n",
       "      <td>0</td>\n",
       "      <td>1</td>\n",
       "    </tr>\n",
       "    <tr>\n",
       "      <th>2446</th>\n",
       "      <td>28</td>\n",
       "      <td>Male</td>\n",
       "      <td>Computer Science</td>\n",
       "      <td>0</td>\n",
       "      <td>6</td>\n",
       "      <td>0</td>\n",
       "      <td>0</td>\n",
       "      <td>1</td>\n",
       "    </tr>\n",
       "  </tbody>\n",
       "</table>\n",
       "</div>"
      ],
      "text/plain": [
       "      age  gender            stream  internships  cgpa  hostel  backlogs  \\\n",
       "448    28    Male             Civil            0     8       1         0   \n",
       "550    30    Male  Computer Science            1     8       0         0   \n",
       "1444   28  Female  Computer Science            3     8       1         0   \n",
       "2333   29  Female        Mechanical            1     8       1         0   \n",
       "2446   28    Male  Computer Science            0     6       0         0   \n",
       "\n",
       "      placed  \n",
       "448        1  \n",
       "550        1  \n",
       "1444       1  \n",
       "2333       1  \n",
       "2446       1  "
      ]
     },
     "execution_count": 49,
     "metadata": {},
     "output_type": "execute_result"
    }
   ],
   "source": [
    "df_clean.loc[(df_clean['age'] >26) & (df_clean['placed']==1)]"
   ]
  },
  {
   "cell_type": "markdown",
   "metadata": {},
   "source": [
    "It looks like that among these 5 students, all of them do not have any historical backlogs, 4 of them are from 'Computer Science, 4 of them have a quite high cgpa,one of them did 3 internships."
   ]
  },
  {
   "cell_type": "markdown",
   "metadata": {},
   "source": [
    "We will remove these outliers."
   ]
  },
  {
   "cell_type": "code",
   "execution_count": 50,
   "metadata": {
    "execution": {
     "iopub.execute_input": "2024-06-27T03:18:39.453092Z",
     "iopub.status.busy": "2024-06-27T03:18:39.452772Z",
     "iopub.status.idle": "2024-06-27T03:18:39.464951Z",
     "shell.execute_reply": "2024-06-27T03:18:39.463935Z",
     "shell.execute_reply.started": "2024-06-27T03:18:39.453058Z"
    }
   },
   "outputs": [
    {
     "name": "stdout",
     "output_type": "stream",
     "text": [
      "In total we removed 12 outliers !\n"
     ]
    }
   ],
   "source": [
    "df_clean = df_clean.drop(list(df_clean.loc[(df_clean['age'] > 26) & (df_clean['placed']==1)].index))\n",
    "print('In total we removed {} outliers !'.format(len(df)-len(df_clean)))"
   ]
  },
  {
   "cell_type": "code",
   "execution_count": 51,
   "metadata": {
    "_kg_hide-input": true,
    "execution": {
     "iopub.execute_input": "2024-06-27T03:18:39.466682Z",
     "iopub.status.busy": "2024-06-27T03:18:39.466350Z",
     "iopub.status.idle": "2024-06-27T03:18:40.411325Z",
     "shell.execute_reply": "2024-06-27T03:18:40.410356Z",
     "shell.execute_reply.started": "2024-06-27T03:18:39.466642Z"
    }
   },
   "outputs": [
    {
     "data": {
      "image/png": "[encoded data removed]",
      "text/plain": [
       "<Figure size 1080x288 with 4 Axes>"
      ]
     },
     "metadata": {},
     "output_type": "display_data"
    }
   ],
   "source": [
    "fig, ax = plt.subplots(1,4, figsize=(15,4))\n",
    "sns.countplot(ax=ax[0], x='age', data=df_clean)\n",
    "sns.barplot(ax=ax[1], x='placed', y='age', data=df_clean,palette=palette)\n",
    "sns.boxplot(ax=ax[2], x='placed', y='age', data=df_clean,palette=palette)\n",
    "sns.countplot(ax=ax[3], x='age', data=df_clean, hue='placed',palette=palette)\n",
    "plt.legend(title='placed?', loc='upper right', labels=['no', 'yes'])\n",
    "plt.title('Age by placement')\n",
    "plt.tight_layout()\n",
    "plt.show()"
   ]
  },
  {
   "cell_type": "markdown",
   "metadata": {},
   "source": [
    "Age looks somewhat normal, we can check its normality though Wilk-Shapiro test!"
   ]
  },
  {
   "cell_type": "code",
   "execution_count": 52,
   "metadata": {
    "execution": {
     "iopub.execute_input": "2024-06-27T03:18:40.413055Z",
     "iopub.status.busy": "2024-06-27T03:18:40.412764Z",
     "iopub.status.idle": "2024-06-27T03:18:40.420906Z",
     "shell.execute_reply": "2024-06-27T03:18:40.419871Z",
     "shell.execute_reply.started": "2024-06-27T03:18:40.413022Z"
    }
   },
   "outputs": [
    {
     "name": "stdout",
     "output_type": "stream",
     "text": [
      "Statistics=0.895, p=0.000\n",
      "Sample does not look Gaussian at 5% significance level  (reject H0)\n"
     ]
    }
   ],
   "source": [
    "stat, p = shapiro(df_clean.age)\n",
    "print('Statistics=%.3f, p=%.3f' % (stat, p))\n",
    "alpha = 0.05\n",
    "if p > alpha:\n",
    "\tprint('Sample looks Gaussian at 5% significance level (fail to reject H0)')\n",
    "else:\n",
    "\tprint('Sample does not look Gaussian at 5% significance level  (reject H0)')"
   ]
  },
  {
   "cell_type": "markdown",
   "metadata": {},
   "source": [
    "The test tells us that the data is not normal, what if we would not consider students with an age equal or higher than 25?"
   ]
  },
  {
   "cell_type": "code",
   "execution_count": 53,
   "metadata": {
    "execution": {
     "iopub.execute_input": "2024-06-27T03:18:40.422357Z",
     "iopub.status.busy": "2024-06-27T03:18:40.422104Z",
     "iopub.status.idle": "2024-06-27T03:18:40.436393Z",
     "shell.execute_reply": "2024-06-27T03:18:40.435067Z",
     "shell.execute_reply.started": "2024-06-27T03:18:40.422328Z"
    }
   },
   "outputs": [
    {
     "name": "stdout",
     "output_type": "stream",
     "text": [
      "Statistics=0.914, p=0.000\n",
      "Sample does not look Gaussian at 5% significance level  (reject H0)\n"
     ]
    }
   ],
   "source": [
    "stat, p = shapiro(df_clean.loc[df_clean['age']<25].age)\n",
    "print('Statistics=%.3f, p=%.3f' % (stat, p))\n",
    "alpha = 0.05\n",
    "if p > alpha:\n",
    "\tprint('Sample looks Gaussian at 5% significance level (fail to reject H0)')\n",
    "else:\n",
    "\tprint('Sample does not look Gaussian at 5% significance level  (reject H0)')"
   ]
  },
  {
   "cell_type": "markdown",
   "metadata": {},
   "source": [
    "The statistics value increases a little bit, meaning that the distribution is more \"normal\" but still it is not normal at 5% significance level."
   ]
  },
  {
   "cell_type": "markdown",
   "metadata": {},
   "source": [
    "Next, it could be interesting to see who are these students with an age higher than 25, did they apply to jobs this late because they did lots of internships and graduated later?"
   ]
  },
  {
   "cell_type": "markdown",
   "metadata": {},
   "source": [
    "# Q7 - Are the number of internships and age independent? (chi square test)\n",
    "- H0: Age and internships are independent <br>\n",
    "- H1: Age and internships are not independent"
   ]
  },
  {
   "cell_type": "code",
   "execution_count": 54,
   "metadata": {
    "execution": {
     "iopub.execute_input": "2024-06-27T03:18:40.438827Z",
     "iopub.status.busy": "2024-06-27T03:18:40.438540Z",
     "iopub.status.idle": "2024-06-27T03:18:40.466365Z",
     "shell.execute_reply": "2024-06-27T03:18:40.465122Z",
     "shell.execute_reply.started": "2024-06-27T03:18:40.438782Z"
    }
   },
   "outputs": [
    {
     "name": "stdout",
     "output_type": "stream",
     "text": [
      "age          19   20   21   22  23  24  25  26\n",
      "internships                                   \n",
      "0            71  187  498  384  93  58  15  22\n",
      "1            64  147  421  420  85  58  10  24\n",
      "2            18   33  150  118  12  10   4   3\n",
      "3             3    8   15   19   2   1   0   1\n"
     ]
    }
   ],
   "source": [
    "age_intern = pd.crosstab(df_clean[\"internships\"],df_clean[\"age\"])\n",
    "print(age_intern)"
   ]
  },
  {
   "cell_type": "code",
   "execution_count": 55,
   "metadata": {
    "execution": {
     "iopub.execute_input": "2024-06-27T03:18:40.468754Z",
     "iopub.status.busy": "2024-06-27T03:18:40.467805Z",
     "iopub.status.idle": "2024-06-27T03:18:40.476300Z",
     "shell.execute_reply": "2024-06-27T03:18:40.475373Z",
     "shell.execute_reply.started": "2024-06-27T03:18:40.468714Z"
    }
   },
   "outputs": [
    {
     "name": "stdout",
     "output_type": "stream",
     "text": [
      "Degress of freedom = 21\n",
      "Expected frequencies  [[7.01313473e+01 1.68584970e+02 4.87322952e+02 4.23035884e+02\n",
      "  8.63155044e+01 5.70941097e+01 1.30372376e+01 2.24779959e+01]\n",
      " [6.49031821e+01 1.56017265e+02 4.50993907e+02 3.91499323e+02\n",
      "  7.98808395e+01 5.28378470e+01 1.20653351e+01 2.08023020e+01]\n",
      " [1.83777928e+01 4.41773866e+01 1.27702099e+02 1.10855789e+02\n",
      "  2.26188219e+01 1.49614083e+01 3.41638456e+00 5.89031821e+00]\n",
      " [2.58767773e+00 6.22037915e+00 1.79810427e+01 1.56090047e+01\n",
      "  3.18483412e+00 2.10663507e+00 4.81042654e-01 8.29383886e-01]]\n"
     ]
    }
   ],
   "source": [
    "stat, p, dof, expected = chi2_contingency(age_intern)\n",
    "print('Degress of freedom = %d' % dof)\n",
    "print('Expected frequencies ', expected)"
   ]
  },
  {
   "cell_type": "code",
   "execution_count": 56,
   "metadata": {
    "execution": {
     "iopub.execute_input": "2024-06-27T03:18:40.478508Z",
     "iopub.status.busy": "2024-06-27T03:18:40.477804Z",
     "iopub.status.idle": "2024-06-27T03:18:40.491327Z",
     "shell.execute_reply": "2024-06-27T03:18:40.490355Z",
     "shell.execute_reply.started": "2024-06-27T03:18:40.478460Z"
    }
   },
   "outputs": [
    {
     "name": "stdout",
     "output_type": "stream",
     "text": [
      "probability=0.950, critical=32.671, stat=31.659\n",
      "The variables are independent (We fail to reject H0)\n",
      "Significance = 0.050, p = 0.063\n",
      "The variables are independent (We fail to reject H0)\n"
     ]
    }
   ],
   "source": [
    "prob = 0.95\n",
    "critical = chi2.ppf(prob, dof)\n",
    "print('probability=%.3f, critical=%.3f, stat=%.3f' % (prob, critical, stat))\n",
    "# interpret test-statistic\n",
    "if abs(stat) >= critical:\n",
    "\tprint('The variables are dependent (We reject H0)')\n",
    "else:\n",
    "\tprint('The variables are independent (We fail to reject H0)')\n",
    "# interpret p-value\n",
    "alpha = 1.0 - prob\n",
    "print('Significance = %.3f, p = %.3f' % (alpha, p))\n",
    "if p <= alpha:\n",
    "\tprint('The variables are dependent (We reject H0)')\n",
    "else:\n",
    "\tprint('The variables are independent (We fail to reject H0)')"
   ]
  },
  {
   "cell_type": "markdown",
   "metadata": {},
   "source": [
    "**The p-value is close to 0.05, so it means that age and the number of internships are somewhat dependent.**"
   ]
  },
  {
   "cell_type": "markdown",
   "metadata": {},
   "source": [
    "# Q8 - Does stream affect placement?"
   ]
  },
  {
   "cell_type": "code",
   "execution_count": 57,
   "metadata": {
    "execution": {
     "iopub.execute_input": "2024-06-27T03:18:40.493018Z",
     "iopub.status.busy": "2024-06-27T03:18:40.492665Z",
     "iopub.status.idle": "2024-06-27T03:18:40.508670Z",
     "shell.execute_reply": "2024-06-27T03:18:40.507696Z",
     "shell.execute_reply.started": "2024-06-27T03:18:40.492974Z"
    }
   },
   "outputs": [
    {
     "data": {
      "text/plain": [
       "Computer Science                 769\n",
       "Information Technology           688\n",
       "Electronics And Communication    424\n",
       "Mechanical                       423\n",
       "Electrical                       334\n",
       "Civil                            316\n",
       "Name: stream, dtype: int64"
      ]
     },
     "execution_count": 57,
     "metadata": {},
     "output_type": "execute_result"
    }
   ],
   "source": [
    "df_clean['stream'].value_counts()"
   ]
  },
  {
   "cell_type": "markdown",
   "metadata": {},
   "source": [
    "There are 6 different streams in this dataset, which look somewhat balanced."
   ]
  },
  {
   "cell_type": "markdown",
   "metadata": {},
   "source": [
    "We will rename some of these streams to improve the readability of the following plots."
   ]
  },
  {
   "cell_type": "code",
   "execution_count": 58,
   "metadata": {
    "execution": {
     "iopub.execute_input": "2024-06-27T03:18:40.510424Z",
     "iopub.status.busy": "2024-06-27T03:18:40.510096Z",
     "iopub.status.idle": "2024-06-27T03:18:40.523421Z",
     "shell.execute_reply": "2024-06-27T03:18:40.522388Z",
     "shell.execute_reply.started": "2024-06-27T03:18:40.510390Z"
    }
   },
   "outputs": [],
   "source": [
    "df_clean['stream']=df_clean['stream'].replace('Computer Science','CS')\n",
    "df_clean['stream']=df_clean['stream'].replace('Information Technology','IT')\n",
    "df_clean['stream']=df_clean['stream'].replace('Electronics And Communication','Electronic')"
   ]
  },
  {
   "cell_type": "code",
   "execution_count": 59,
   "metadata": {
    "_kg_hide-input": true,
    "execution": {
     "iopub.execute_input": "2024-06-27T03:18:40.525843Z",
     "iopub.status.busy": "2024-06-27T03:18:40.524681Z",
     "iopub.status.idle": "2024-06-27T03:18:40.857539Z",
     "shell.execute_reply": "2024-06-27T03:18:40.856365Z",
     "shell.execute_reply.started": "2024-06-27T03:18:40.525788Z"
    }
   },
   "outputs": [
    {
     "data": {
      "image/png": "[encoded data removed]",
      "text/plain": [
       "<Figure size 468x324 with 1 Axes>"
      ]
     },
     "metadata": {},
     "output_type": "display_data"
    }
   ],
   "source": [
    "plt.figure(figsize=(6.5,4.5))\n",
    "g=sns.countplot(x='stream', data=df_clean, hue='placed',palette=palette)\n",
    "plt.yticks([])\n",
    "plt.xlabel('')\n",
    "for container in g.containers:\n",
    "    g.bar_label(container,fmt='%.1f')\n",
    "plt.legend(title='Placed?', title_fontsize=14, labels=['no', 'yes'], fontsize=13, fancybox=True, shadow=True, frameon=True)\n",
    "plt.title('Placement by Major', fontsize=17)\n",
    "plt.show()"
   ]
  },
  {
   "cell_type": "markdown",
   "metadata": {},
   "source": [
    "It looks like the majority of students from Computer Science, IT and Electronics and communication got placed.<br>\n",
    "Since the situation looks more delicate with mechanical, civil and electrical engineering students, we will carry out chi square tests."
   ]
  },
  {
   "cell_type": "markdown",
   "metadata": {},
   "source": [
    "## Do Mechanical Engineers get placed less?"
   ]
  },
  {
   "cell_type": "code",
   "execution_count": 60,
   "metadata": {
    "execution": {
     "iopub.execute_input": "2024-06-27T03:18:40.859061Z",
     "iopub.status.busy": "2024-06-27T03:18:40.858781Z",
     "iopub.status.idle": "2024-06-27T03:18:40.868742Z",
     "shell.execute_reply": "2024-06-27T03:18:40.867675Z",
     "shell.execute_reply.started": "2024-06-27T03:18:40.859032Z"
    }
   },
   "outputs": [
    {
     "data": {
      "text/plain": [
       "0    224\n",
       "1    199\n",
       "Name: placed, dtype: int64"
      ]
     },
     "execution_count": 60,
     "metadata": {},
     "output_type": "execute_result"
    }
   ],
   "source": [
    "mechanical_ratio = df_clean.loc[df_clean['stream']=='Mechanical']['placed'].value_counts()\n",
    "mechanical_ratio"
   ]
  },
  {
   "cell_type": "code",
   "execution_count": 61,
   "metadata": {
    "execution": {
     "iopub.execute_input": "2024-06-27T03:18:40.870386Z",
     "iopub.status.busy": "2024-06-27T03:18:40.870032Z",
     "iopub.status.idle": "2024-06-27T03:18:40.881242Z",
     "shell.execute_reply": "2024-06-27T03:18:40.880195Z",
     "shell.execute_reply.started": "2024-06-27T03:18:40.870352Z"
    }
   },
   "outputs": [
    {
     "name": "stdout",
     "output_type": "stream",
     "text": [
      "Power_divergenceResult(statistic=1.4775413711583925, pvalue=0.2241595941323075)\n"
     ]
    }
   ],
   "source": [
    "# Perform Chi-square test\n",
    "chi= stats.chisquare(mechanical_ratio)\n",
    "print(chi)"
   ]
  },
  {
   "cell_type": "code",
   "execution_count": 62,
   "metadata": {
    "execution": {
     "iopub.execute_input": "2024-06-27T03:18:40.882980Z",
     "iopub.status.busy": "2024-06-27T03:18:40.882701Z",
     "iopub.status.idle": "2024-06-27T03:18:40.892589Z",
     "shell.execute_reply": "2024-06-27T03:18:40.891531Z",
     "shell.execute_reply.started": "2024-06-27T03:18:40.882948Z"
    }
   },
   "outputs": [
    {
     "name": "stdout",
     "output_type": "stream",
     "text": [
      "No significant difference with a 95% confidence\n"
     ]
    }
   ],
   "source": [
    "# Test significance\n",
    "alpha= 0.05\n",
    "if chi[1] < alpha:\n",
    "    print(\"Difference is statistically significant with a 95% confidence\")\n",
    "else:\n",
    "    print(\"No significant difference with a 95% confidence\")"
   ]
  },
  {
   "cell_type": "markdown",
   "metadata": {},
   "source": [
    "**The p-value is well above 5% (around 22.4%), so we fail to state statistical difference between job placement = 0 or 1 among Mechanical Engineers.<br>**"
   ]
  },
  {
   "cell_type": "markdown",
   "metadata": {},
   "source": [
    "## Do Civil Engineers get placed less?"
   ]
  },
  {
   "cell_type": "code",
   "execution_count": 63,
   "metadata": {
    "execution": {
     "iopub.execute_input": "2024-06-27T03:18:40.894116Z",
     "iopub.status.busy": "2024-06-27T03:18:40.893852Z",
     "iopub.status.idle": "2024-06-27T03:18:40.909525Z",
     "shell.execute_reply": "2024-06-27T03:18:40.908564Z",
     "shell.execute_reply.started": "2024-06-27T03:18:40.894087Z"
    }
   },
   "outputs": [
    {
     "data": {
      "text/plain": [
       "0    171\n",
       "1    145\n",
       "Name: placed, dtype: int64"
      ]
     },
     "execution_count": 63,
     "metadata": {},
     "output_type": "execute_result"
    }
   ],
   "source": [
    "civil_ratio = df_clean.loc[df_clean['stream']=='Civil']['placed'].value_counts()\n",
    "civil_ratio"
   ]
  },
  {
   "cell_type": "code",
   "execution_count": 64,
   "metadata": {
    "execution": {
     "iopub.execute_input": "2024-06-27T03:18:40.911506Z",
     "iopub.status.busy": "2024-06-27T03:18:40.911117Z",
     "iopub.status.idle": "2024-06-27T03:18:40.921478Z",
     "shell.execute_reply": "2024-06-27T03:18:40.920322Z",
     "shell.execute_reply.started": "2024-06-27T03:18:40.911461Z"
    }
   },
   "outputs": [
    {
     "name": "stdout",
     "output_type": "stream",
     "text": [
      "Power_divergenceResult(statistic=2.1392405063291138, pvalue=0.14357295597764955)\n"
     ]
    }
   ],
   "source": [
    "# Perform Chi-square test\n",
    "chi= stats.chisquare(civil_ratio)\n",
    "print(chi)"
   ]
  },
  {
   "cell_type": "code",
   "execution_count": 65,
   "metadata": {
    "execution": {
     "iopub.execute_input": "2024-06-27T03:18:40.923332Z",
     "iopub.status.busy": "2024-06-27T03:18:40.922973Z",
     "iopub.status.idle": "2024-06-27T03:18:40.935720Z",
     "shell.execute_reply": "2024-06-27T03:18:40.934576Z",
     "shell.execute_reply.started": "2024-06-27T03:18:40.923290Z"
    }
   },
   "outputs": [
    {
     "name": "stdout",
     "output_type": "stream",
     "text": [
      "No significant difference with a 95% confidence\n"
     ]
    }
   ],
   "source": [
    "# Test significance\n",
    "alpha= 0.05\n",
    "if chi[1] < alpha:\n",
    "    print(\"Difference is statistically significant with a 95% confidence\")\n",
    "else:\n",
    "    print(\"No significant difference with a 95% confidence\")"
   ]
  },
  {
   "cell_type": "markdown",
   "metadata": {},
   "source": [
    "**The p-value is higher than 5% (14%), so we fail to state statistical difference between job placement = 0 or 1 among Civil Engineers. It is interesting to notice that the p value is smaller in this case compared to the previous test about mechanical engineering.**"
   ]
  },
  {
   "cell_type": "markdown",
   "metadata": {},
   "source": [
    "## What about Electrical Engineers?"
   ]
  },
  {
   "cell_type": "code",
   "execution_count": 66,
   "metadata": {
    "execution": {
     "iopub.execute_input": "2024-06-27T03:18:40.937986Z",
     "iopub.status.busy": "2024-06-27T03:18:40.937587Z",
     "iopub.status.idle": "2024-06-27T03:18:40.950156Z",
     "shell.execute_reply": "2024-06-27T03:18:40.949136Z",
     "shell.execute_reply.started": "2024-06-27T03:18:40.937941Z"
    }
   },
   "outputs": [],
   "source": [
    "electrical_ratio = df_clean.loc[df_clean['stream']=='Electrical']['placed'].value_counts()"
   ]
  },
  {
   "cell_type": "code",
   "execution_count": 67,
   "metadata": {
    "execution": {
     "iopub.execute_input": "2024-06-27T03:18:40.951792Z",
     "iopub.status.busy": "2024-06-27T03:18:40.951507Z",
     "iopub.status.idle": "2024-06-27T03:18:40.964362Z",
     "shell.execute_reply": "2024-06-27T03:18:40.963505Z",
     "shell.execute_reply.started": "2024-06-27T03:18:40.951760Z"
    }
   },
   "outputs": [
    {
     "data": {
      "text/plain": [
       "Power_divergenceResult(statistic=2.3473053892215567, pvalue=0.12549977446847638)"
      ]
     },
     "execution_count": 67,
     "metadata": {},
     "output_type": "execute_result"
    }
   ],
   "source": [
    "chi = stats.chisquare(electrical_ratio)\n",
    "chi"
   ]
  },
  {
   "cell_type": "code",
   "execution_count": 68,
   "metadata": {
    "execution": {
     "iopub.execute_input": "2024-06-27T03:18:40.966402Z",
     "iopub.status.busy": "2024-06-27T03:18:40.966063Z",
     "iopub.status.idle": "2024-06-27T03:18:40.977942Z",
     "shell.execute_reply": "2024-06-27T03:18:40.976956Z",
     "shell.execute_reply.started": "2024-06-27T03:18:40.966360Z"
    }
   },
   "outputs": [
    {
     "name": "stdout",
     "output_type": "stream",
     "text": [
      "No significant difference with a 95% confidence\n"
     ]
    }
   ],
   "source": [
    "# Test significance\n",
    "alpha= 0.05\n",
    "if chi[1] < alpha:\n",
    "    print(\"Difference is statistically significant with a 95% confidence\")\n",
    "else:\n",
    "    print(\"No significant difference with a 95% confidence\")"
   ]
  },
  {
   "cell_type": "markdown",
   "metadata": {},
   "source": [
    "**Also for Electrical Engineers, no difference could be found with a 95% confidence.**"
   ]
  },
  {
   "cell_type": "markdown",
   "metadata": {},
   "source": [
    "We can conclude that only for Computer Science, IT, Electronics and communication there is a statstical difference between job placement. "
   ]
  },
  {
   "cell_type": "markdown",
   "metadata": {},
   "source": [
    "# Q9 - Is there a relationship between stream and the other features?"
   ]
  },
  {
   "cell_type": "markdown",
   "metadata": {},
   "source": [
    "## Stream VS Hostel"
   ]
  },
  {
   "cell_type": "code",
   "execution_count": 69,
   "metadata": {
    "execution": {
     "iopub.execute_input": "2024-06-27T03:18:40.979678Z",
     "iopub.status.busy": "2024-06-27T03:18:40.979364Z",
     "iopub.status.idle": "2024-06-27T03:18:41.725618Z",
     "shell.execute_reply": "2024-06-27T03:18:41.724676Z",
     "shell.execute_reply.started": "2024-06-27T03:18:40.979615Z"
    }
   },
   "outputs": [
    {
     "data": {
      "image/png": "[encoded data removed]",
      "text/plain": [
       "<Figure size 360x324 with 1 Axes>"
      ]
     },
     "metadata": {},
     "output_type": "display_data"
    }
   ],
   "source": [
    "plt.figure(figsize=(5,4.5))\n",
    "sns.barplot(y='stream', x='hostel',data=df_clean, hue='placed')\n",
    "plt.xticks(rotation=90);\n",
    "plt.ylabel('');"
   ]
  },
  {
   "cell_type": "markdown",
   "metadata": {},
   "source": [
    "**It looks like the vast majority of Mechanical Engineers lives in a college accomodation**"
   ]
  },
  {
   "cell_type": "markdown",
   "metadata": {},
   "source": [
    "## Stream VS gender"
   ]
  },
  {
   "cell_type": "code",
   "execution_count": 70,
   "metadata": {
    "execution": {
     "iopub.execute_input": "2024-06-27T03:18:41.727011Z",
     "iopub.status.busy": "2024-06-27T03:18:41.726752Z",
     "iopub.status.idle": "2024-06-27T03:18:42.143247Z",
     "shell.execute_reply": "2024-06-27T03:18:42.142357Z",
     "shell.execute_reply.started": "2024-06-27T03:18:41.726982Z"
    }
   },
   "outputs": [
    {
     "data": {
      "image/png": "[encoded data removed]",
      "text/plain": [
       "<Figure size 360x324 with 1 Axes>"
      ]
     },
     "metadata": {},
     "output_type": "display_data"
    }
   ],
   "source": [
    "plt.figure(figsize=(5,4.5))\n",
    "sns.countplot(y='stream',data=df_clean, hue='gender')\n",
    "plt.xticks(rotation=90);\n",
    "plt.ylabel('');"
   ]
  },
  {
   "cell_type": "markdown",
   "metadata": {},
   "source": [
    "**We can see that overall the majority of students is male for every Stream.**"
   ]
  },
  {
   "cell_type": "code",
   "execution_count": 71,
   "metadata": {
    "execution": {
     "iopub.execute_input": "2024-06-27T03:18:42.144887Z",
     "iopub.status.busy": "2024-06-27T03:18:42.144608Z",
     "iopub.status.idle": "2024-06-27T03:18:42.156553Z",
     "shell.execute_reply": "2024-06-27T03:18:42.155400Z",
     "shell.execute_reply.started": "2024-06-27T03:18:42.144855Z"
    }
   },
   "outputs": [],
   "source": [
    "x, y = 'stream', 'internships'\n",
    "df1 = df_clean.groupby(x)[y].value_counts(normalize=True)\n",
    "df1 = df1.mul(100)\n",
    "df1 = df1.rename('percent(%)').reset_index()"
   ]
  },
  {
   "cell_type": "code",
   "execution_count": 72,
   "metadata": {
    "_kg_hide-input": true,
    "execution": {
     "iopub.execute_input": "2024-06-27T03:18:42.158112Z",
     "iopub.status.busy": "2024-06-27T03:18:42.157850Z",
     "iopub.status.idle": "2024-06-27T03:18:42.677339Z",
     "shell.execute_reply": "2024-06-27T03:18:42.676313Z",
     "shell.execute_reply.started": "2024-06-27T03:18:42.158082Z"
    }
   },
   "outputs": [
    {
     "data": {
      "image/png": "[encoded data removed]",
      "text/plain": [
       "<Figure size 1080x360 with 1 Axes>"
      ]
     },
     "metadata": {},
     "output_type": "display_data"
    }
   ],
   "source": [
    "plt.figure(figsize=(15,5))\n",
    "g = sns.barplot(x=x,y='percent(%)',hue=y,data=df1, palette='Blues_r')\n",
    "plt.legend(title='No. \\nInternsips',bbox_to_anchor=(1, 1), ncol=1, fancybox=True, shadow=True,fontsize=20,title_fontsize=17)\n",
    "plt.xlabel('')\n",
    "plt.ylim(0, 65)\n",
    "plt.ylabel('students percent (%)',fontsize=20)\n",
    "for container in g.containers:\n",
    "    g.bar_label(container, padding = 4, fmt='%.1f', fontsize=10.5)\n",
    "plt.yticks([])\n",
    "plt.xticks(fontsize=18)\n",
    "plt.title('No. Internships by Major', fontsize=20)\n",
    "plt.show()"
   ]
  },
  {
   "cell_type": "markdown",
   "metadata": {},
   "source": [
    "**We can see the major where most students did at least one internship is Computer Science (67%), while for Civil, Electrical and Mechanical engineering more than half of the students did not do any internship. Morevoer, Electronic and IT are the majors where most students did 2 or more internships.**"
   ]
  },
  {
   "cell_type": "code",
   "execution_count": 73,
   "metadata": {
    "execution": {
     "iopub.execute_input": "2024-06-27T03:18:42.678937Z",
     "iopub.status.busy": "2024-06-27T03:18:42.678654Z",
     "iopub.status.idle": "2024-06-27T03:18:42.689755Z",
     "shell.execute_reply": "2024-06-27T03:18:42.688742Z",
     "shell.execute_reply.started": "2024-06-27T03:18:42.678882Z"
    }
   },
   "outputs": [],
   "source": [
    "x, y = 'stream', 'cgpa'\n",
    "df1 = df_clean.groupby(x)[y].value_counts(normalize=True)\n",
    "df1 = df1.mul(100)\n",
    "df1 = df1.rename('percent(%)').reset_index()"
   ]
  },
  {
   "cell_type": "code",
   "execution_count": 74,
   "metadata": {
    "_kg_hide-input": true,
    "execution": {
     "iopub.execute_input": "2024-06-27T03:18:42.691688Z",
     "iopub.status.busy": "2024-06-27T03:18:42.691174Z",
     "iopub.status.idle": "2024-06-27T03:18:43.439518Z",
     "shell.execute_reply": "2024-06-27T03:18:43.438479Z",
     "shell.execute_reply.started": "2024-06-27T03:18:42.691638Z"
    }
   },
   "outputs": [
    {
     "data": {
      "image/png": "[encoded data removed]",
      "text/plain": [
       "<Figure size 1080x324 with 1 Axes>"
      ]
     },
     "metadata": {},
     "output_type": "display_data"
    }
   ],
   "source": [
    "plt.figure(figsize=(15,4.5))\n",
    "g = sns.barplot(x='stream', y='percent(%)',hue='cgpa',data=df1, palette='mako_r')\n",
    "plt.legend(title='CGPA',bbox_to_anchor=(1, 1), ncol=1, fancybox=True, shadow=True, fontsize=20,title_fontsize=30)\n",
    "plt.xlabel('')\n",
    "plt.ylim(0, 40)\n",
    "plt.ylabel('students percent (%)',fontsize=20)\n",
    "for container in g.containers:\n",
    "    g.bar_label(container, padding = 4, fmt='%.1f', fontsize=10.5)\n",
    "plt.yticks([])\n",
    "plt.xticks(fontsize=18)\n",
    "plt.title('CGPA by Major', fontsize=20)\n",
    "plt.show()"
   ]
  },
  {
   "cell_type": "markdown",
   "metadata": {},
   "source": [
    "**We can see that Civil and Mechanical are the majors where over 7% of the students have CGPA=9, whereas students from Electrical engineering are those with most CGPA=8 or CGPA=7.**"
   ]
  },
  {
   "cell_type": "markdown",
   "metadata": {},
   "source": [
    "In the following, ML algorithms will be trained to predict the placement of students."
   ]
  },
  {
   "cell_type": "markdown",
   "metadata": {},
   "source": [
    "# Data preprocessing"
   ]
  },
  {
   "cell_type": "code",
   "execution_count": 75,
   "metadata": {
    "execution": {
     "iopub.execute_input": "2024-06-27T03:18:43.441337Z",
     "iopub.status.busy": "2024-06-27T03:18:43.440999Z",
     "iopub.status.idle": "2024-06-27T03:18:43.455003Z",
     "shell.execute_reply": "2024-06-27T03:18:43.454028Z",
     "shell.execute_reply.started": "2024-06-27T03:18:43.441292Z"
    }
   },
   "outputs": [
    {
     "name": "stdout",
     "output_type": "stream",
     "text": [
      "<class 'pandas.core.frame.DataFrame'>\n",
      "Int64Index: 2954 entries, 0 to 2965\n",
      "Data columns (total 8 columns):\n",
      " #   Column       Non-Null Count  Dtype \n",
      "---  ------       --------------  ----- \n",
      " 0   age          2954 non-null   int64 \n",
      " 1   gender       2954 non-null   object\n",
      " 2   stream       2954 non-null   object\n",
      " 3   internships  2954 non-null   int64 \n",
      " 4   cgpa         2954 non-null   int64 \n",
      " 5   hostel       2954 non-null   int64 \n",
      " 6   backlogs     2954 non-null   int64 \n",
      " 7   placed       2954 non-null   int64 \n",
      "dtypes: int64(6), object(2)\n",
      "memory usage: 272.2+ KB\n"
     ]
    }
   ],
   "source": [
    "df_clean.info()"
   ]
  },
  {
   "cell_type": "markdown",
   "metadata": {},
   "source": [
    "## Encoding"
   ]
  },
  {
   "cell_type": "markdown",
   "metadata": {},
   "source": [
    "Since there is no order/hierarchy among the categorical features, they will be encoded by One hot encoding (using pd.get_dummies)"
   ]
  },
  {
   "cell_type": "code",
   "execution_count": 76,
   "metadata": {
    "execution": {
     "iopub.execute_input": "2024-06-27T03:18:43.456407Z",
     "iopub.status.busy": "2024-06-27T03:18:43.456144Z",
     "iopub.status.idle": "2024-06-27T03:18:43.473987Z",
     "shell.execute_reply": "2024-06-27T03:18:43.472944Z",
     "shell.execute_reply.started": "2024-06-27T03:18:43.456376Z"
    }
   },
   "outputs": [],
   "source": [
    "df_encoded = pd.get_dummies(df_clean, drop_first=True)"
   ]
  },
  {
   "cell_type": "code",
   "execution_count": 77,
   "metadata": {
    "execution": {
     "iopub.execute_input": "2024-06-27T03:18:43.476459Z",
     "iopub.status.busy": "2024-06-27T03:18:43.476083Z",
     "iopub.status.idle": "2024-06-27T03:18:43.493251Z",
     "shell.execute_reply": "2024-06-27T03:18:43.492281Z",
     "shell.execute_reply.started": "2024-06-27T03:18:43.476397Z"
    }
   },
   "outputs": [
    {
     "data": {
      "text/html": [
       "<div>\n",
       "<style scoped>\n",
       "    .dataframe tbody tr th:only-of-type {\n",
       "        vertical-align: middle;\n",
       "    }\n",
       "\n",
       "    .dataframe tbody tr th {\n",
       "        vertical-align: top;\n",
       "    }\n",
       "\n",
       "    .dataframe thead th {\n",
       "        text-align: right;\n",
       "    }\n",
       "</style>\n",
       "<table border=\"1\" class=\"dataframe\">\n",
       "  <thead>\n",
       "    <tr style=\"text-align: right;\">\n",
       "      <th></th>\n",
       "      <th>age</th>\n",
       "      <th>internships</th>\n",
       "      <th>cgpa</th>\n",
       "      <th>hostel</th>\n",
       "      <th>backlogs</th>\n",
       "      <th>placed</th>\n",
       "      <th>gender_Male</th>\n",
       "      <th>stream_Civil</th>\n",
       "      <th>stream_Electrical</th>\n",
       "      <th>stream_Electronic</th>\n",
       "      <th>stream_IT</th>\n",
       "      <th>stream_Mechanical</th>\n",
       "    </tr>\n",
       "  </thead>\n",
       "  <tbody>\n",
       "    <tr>\n",
       "      <th>0</th>\n",
       "      <td>22</td>\n",
       "      <td>1</td>\n",
       "      <td>8</td>\n",
       "      <td>1</td>\n",
       "      <td>1</td>\n",
       "      <td>1</td>\n",
       "      <td>1</td>\n",
       "      <td>0</td>\n",
       "      <td>0</td>\n",
       "      <td>1</td>\n",
       "      <td>0</td>\n",
       "      <td>0</td>\n",
       "    </tr>\n",
       "    <tr>\n",
       "      <th>1</th>\n",
       "      <td>21</td>\n",
       "      <td>0</td>\n",
       "      <td>7</td>\n",
       "      <td>1</td>\n",
       "      <td>1</td>\n",
       "      <td>1</td>\n",
       "      <td>0</td>\n",
       "      <td>0</td>\n",
       "      <td>0</td>\n",
       "      <td>0</td>\n",
       "      <td>0</td>\n",
       "      <td>0</td>\n",
       "    </tr>\n",
       "    <tr>\n",
       "      <th>2</th>\n",
       "      <td>22</td>\n",
       "      <td>1</td>\n",
       "      <td>6</td>\n",
       "      <td>0</td>\n",
       "      <td>0</td>\n",
       "      <td>1</td>\n",
       "      <td>0</td>\n",
       "      <td>0</td>\n",
       "      <td>0</td>\n",
       "      <td>0</td>\n",
       "      <td>1</td>\n",
       "      <td>0</td>\n",
       "    </tr>\n",
       "    <tr>\n",
       "      <th>3</th>\n",
       "      <td>21</td>\n",
       "      <td>0</td>\n",
       "      <td>8</td>\n",
       "      <td>0</td>\n",
       "      <td>1</td>\n",
       "      <td>1</td>\n",
       "      <td>1</td>\n",
       "      <td>0</td>\n",
       "      <td>0</td>\n",
       "      <td>0</td>\n",
       "      <td>1</td>\n",
       "      <td>0</td>\n",
       "    </tr>\n",
       "    <tr>\n",
       "      <th>4</th>\n",
       "      <td>22</td>\n",
       "      <td>0</td>\n",
       "      <td>8</td>\n",
       "      <td>1</td>\n",
       "      <td>0</td>\n",
       "      <td>1</td>\n",
       "      <td>1</td>\n",
       "      <td>0</td>\n",
       "      <td>0</td>\n",
       "      <td>0</td>\n",
       "      <td>0</td>\n",
       "      <td>1</td>\n",
       "    </tr>\n",
       "  </tbody>\n",
       "</table>\n",
       "</div>"
      ],
      "text/plain": [
       "   age  internships  cgpa  hostel  backlogs  placed  gender_Male  \\\n",
       "0   22            1     8       1         1       1            1   \n",
       "1   21            0     7       1         1       1            0   \n",
       "2   22            1     6       0         0       1            0   \n",
       "3   21            0     8       0         1       1            1   \n",
       "4   22            0     8       1         0       1            1   \n",
       "\n",
       "   stream_Civil  stream_Electrical  stream_Electronic  stream_IT  \\\n",
       "0             0                  0                  1          0   \n",
       "1             0                  0                  0          0   \n",
       "2             0                  0                  0          1   \n",
       "3             0                  0                  0          1   \n",
       "4             0                  0                  0          0   \n",
       "\n",
       "   stream_Mechanical  \n",
       "0                  0  \n",
       "1                  0  \n",
       "2                  0  \n",
       "3                  0  \n",
       "4                  1  "
      ]
     },
     "execution_count": 77,
     "metadata": {},
     "output_type": "execute_result"
    }
   ],
   "source": [
    "df_encoded.head()"
   ]
  },
  {
   "cell_type": "code",
   "execution_count": 78,
   "metadata": {
    "execution": {
     "iopub.execute_input": "2024-06-27T03:18:43.494987Z",
     "iopub.status.busy": "2024-06-27T03:18:43.494647Z",
     "iopub.status.idle": "2024-06-27T03:18:43.505854Z",
     "shell.execute_reply": "2024-06-27T03:18:43.504923Z",
     "shell.execute_reply.started": "2024-06-27T03:18:43.494944Z"
    }
   },
   "outputs": [],
   "source": [
    "X = df_encoded.drop('placed', axis=1)\n",
    "y = df_encoded['placed']"
   ]
  },
  {
   "cell_type": "markdown",
   "metadata": {},
   "source": [
    "## Train test split"
   ]
  },
  {
   "cell_type": "code",
   "execution_count": 79,
   "metadata": {
    "execution": {
     "iopub.execute_input": "2024-06-27T03:18:43.507405Z",
     "iopub.status.busy": "2024-06-27T03:18:43.507119Z",
     "iopub.status.idle": "2024-06-27T03:18:43.522990Z",
     "shell.execute_reply": "2024-06-27T03:18:43.522028Z",
     "shell.execute_reply.started": "2024-06-27T03:18:43.507375Z"
    }
   },
   "outputs": [],
   "source": [
    "X_train, X_test, y_train, y_test = train_test_split(X, y, test_size = 0.3, stratify=y, random_state=seed)"
   ]
  },
  {
   "cell_type": "code",
   "execution_count": null,
   "metadata": {},
   "outputs": [],
   "source": []
  }
 ],
 "metadata": {
  "kernelspec": {
   "display_name": "Python 3 (ipykernel)",
   "language": "python",
   "name": "python3"
  },
  "language_info": {
   "codemirror_mode": {
    "name": "ipython",
    "version": 3
   },
   "file_extension": ".py",
   "mimetype": "text/x-python",
   "name": "python",
   "nbconvert_exporter": "python",
   "pygments_lexer": "ipython3",
   "version": "3.9.7"
  }
 },
 "nbformat": 4,
 "nbformat_minor": 4
}
